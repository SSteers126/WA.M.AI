{
 "cells": [
  {
   "cell_type": "code",
   "execution_count": 519,
   "id": "initial_id",
   "metadata": {
    "collapsed": true,
    "ExecuteTime": {
     "end_time": "2023-11-04T03:01:06.395065200Z",
     "start_time": "2023-11-04T03:01:06.319562200Z"
    }
   },
   "outputs": [
    {
     "data": {
      "text/plain": "'2.14.0'"
     },
     "execution_count": 519,
     "metadata": {},
     "output_type": "execute_result"
    }
   ],
   "source": [
    "import tensorflow as tf\n",
    "import tensorflow_datasets as tfds\n",
    "# from tensorflow.keras.layers import Input, Conv2D, Dense, Flatten, Dropout, GlobalMaxPooling2D, Activation, Rescaling\n",
    "from tensorflow.keras import layers\n",
    "from tensorflow.keras.models import Sequential as SequentialModel\n",
    "import keras_tuner as kt\n",
    "from sklearn.metrics import confusion_matrix, ConfusionMatrixDisplay\n",
    "\n",
    "import pandas as pd\n",
    "import numpy as np\n",
    "import matplotlib.pyplot as plt\n",
    "import itertools\n",
    "\n",
    "import os\n",
    "import time\n",
    "\n",
    "from pathlib import Path\n",
    "\n",
    "# tf.random.set_seed(5263)\n",
    "tf.__version__"
   ]
  },
  {
   "cell_type": "code",
   "execution_count": 520,
   "outputs": [],
   "source": [
    "# Set up datasets before passing to the model\n",
    "\n",
    "\n",
    "# TODO: Image shape should be taken from the dataset, not hardcoded\n",
    "image_shape = (400, 400, 3)\n",
    "\n",
    "# Normalise image values to 0-1 from 0-255\n",
    "img_normaliser = layers.Rescaling(1./255)"
   ],
   "metadata": {
    "collapsed": false,
    "ExecuteTime": {
     "end_time": "2023-11-04T03:01:06.409063300Z",
     "start_time": "2023-11-04T03:01:06.327564500Z"
    }
   },
   "id": "f885e125140780fe"
  },
  {
   "cell_type": "code",
   "execution_count": 521,
   "outputs": [
    {
     "data": {
      "text/plain": "                                           file_name     b1     b2     b3  \\\n0  okinimesumama-expert-24-played-incomplete-0000...  False  False  False   \n1  okinimesumama-expert-24-played-incomplete-0000...  False  False  False   \n2  okinimesumama-expert-24-played-incomplete-0000...  False  False  False   \n3  okinimesumama-expert-24-played-incomplete-0000...  False  False  False   \n4  okinimesumama-expert-24-played-incomplete-0000...  False  False  False   \n\n      b4     b5     b6     b7     b8  \n0  False  False  False  False  False  \n1  False  False  False  False  False  \n2  False  False  False  False  False  \n3  False  False  False  False  False  \n4  False  False  False  False  False  ",
      "text/html": "<div>\n<style scoped>\n    .dataframe tbody tr th:only-of-type {\n        vertical-align: middle;\n    }\n\n    .dataframe tbody tr th {\n        vertical-align: top;\n    }\n\n    .dataframe thead th {\n        text-align: right;\n    }\n</style>\n<table border=\"1\" class=\"dataframe\">\n  <thead>\n    <tr style=\"text-align: right;\">\n      <th></th>\n      <th>file_name</th>\n      <th>b1</th>\n      <th>b2</th>\n      <th>b3</th>\n      <th>b4</th>\n      <th>b5</th>\n      <th>b6</th>\n      <th>b7</th>\n      <th>b8</th>\n    </tr>\n  </thead>\n  <tbody>\n    <tr>\n      <th>0</th>\n      <td>okinimesumama-expert-24-played-incomplete-0000...</td>\n      <td>False</td>\n      <td>False</td>\n      <td>False</td>\n      <td>False</td>\n      <td>False</td>\n      <td>False</td>\n      <td>False</td>\n      <td>False</td>\n    </tr>\n    <tr>\n      <th>1</th>\n      <td>okinimesumama-expert-24-played-incomplete-0000...</td>\n      <td>False</td>\n      <td>False</td>\n      <td>False</td>\n      <td>False</td>\n      <td>False</td>\n      <td>False</td>\n      <td>False</td>\n      <td>False</td>\n    </tr>\n    <tr>\n      <th>2</th>\n      <td>okinimesumama-expert-24-played-incomplete-0000...</td>\n      <td>False</td>\n      <td>False</td>\n      <td>False</td>\n      <td>False</td>\n      <td>False</td>\n      <td>False</td>\n      <td>False</td>\n      <td>False</td>\n    </tr>\n    <tr>\n      <th>3</th>\n      <td>okinimesumama-expert-24-played-incomplete-0000...</td>\n      <td>False</td>\n      <td>False</td>\n      <td>False</td>\n      <td>False</td>\n      <td>False</td>\n      <td>False</td>\n      <td>False</td>\n      <td>False</td>\n    </tr>\n    <tr>\n      <th>4</th>\n      <td>okinimesumama-expert-24-played-incomplete-0000...</td>\n      <td>False</td>\n      <td>False</td>\n      <td>False</td>\n      <td>False</td>\n      <td>False</td>\n      <td>False</td>\n      <td>False</td>\n      <td>False</td>\n    </tr>\n  </tbody>\n</table>\n</div>"
     },
     "execution_count": 521,
     "metadata": {},
     "output_type": "execute_result"
    }
   ],
   "source": [
    "incomplete_dataset_path = Path(\"\") / \"datasets\" / \"data\" / \"TEST-okinimesumama-expert-24-played-incomplete\"\n",
    "\n",
    "df = pd.read_csv(incomplete_dataset_path / \"labels.csv\")\n",
    "\n",
    "df.head()"
   ],
   "metadata": {
    "collapsed": false,
    "ExecuteTime": {
     "end_time": "2023-11-04T03:01:06.474062700Z",
     "start_time": "2023-11-04T03:01:06.335066700Z"
    }
   },
   "id": "556db2edd13c5a73"
  },
  {
   "cell_type": "code",
   "execution_count": 522,
   "outputs": [
    {
     "data": {
      "text/plain": "array(['datasets\\\\data\\\\TEST-okinimesumama-expert-24-played-incomplete\\\\okinimesumama-expert-24-played-incomplete-0000000000.png',\n       'datasets\\\\data\\\\TEST-okinimesumama-expert-24-played-incomplete\\\\okinimesumama-expert-24-played-incomplete-0000000001.png',\n       'datasets\\\\data\\\\TEST-okinimesumama-expert-24-played-incomplete\\\\okinimesumama-expert-24-played-incomplete-0000000002.png',\n       'datasets\\\\data\\\\TEST-okinimesumama-expert-24-played-incomplete\\\\okinimesumama-expert-24-played-incomplete-0000000003.png',\n       'datasets\\\\data\\\\TEST-okinimesumama-expert-24-played-incomplete\\\\okinimesumama-expert-24-played-incomplete-0000000004.png',\n       'datasets\\\\data\\\\TEST-okinimesumama-expert-24-played-incomplete\\\\okinimesumama-expert-24-played-incomplete-0000000005.png',\n       'datasets\\\\data\\\\TEST-okinimesumama-expert-24-played-incomplete\\\\okinimesumama-expert-24-played-incomplete-0000000006.png',\n       'datasets\\\\data\\\\TEST-okinimesumama-expert-24-played-incomplete\\\\okinimesumama-expert-24-played-incomplete-0000000007.png',\n       'datasets\\\\data\\\\TEST-okinimesumama-expert-24-played-incomplete\\\\okinimesumama-expert-24-played-incomplete-0000000008.png',\n       'datasets\\\\data\\\\TEST-okinimesumama-expert-24-played-incomplete\\\\okinimesumama-expert-24-played-incomplete-0000000009.png',\n       'datasets\\\\data\\\\TEST-okinimesumama-expert-24-played-incomplete\\\\okinimesumama-expert-24-played-incomplete-0000000010.png',\n       'datasets\\\\data\\\\TEST-okinimesumama-expert-24-played-incomplete\\\\okinimesumama-expert-24-played-incomplete-0000000011.png',\n       'datasets\\\\data\\\\TEST-okinimesumama-expert-24-played-incomplete\\\\okinimesumama-expert-24-played-incomplete-0000000012.png',\n       'datasets\\\\data\\\\TEST-okinimesumama-expert-24-played-incomplete\\\\okinimesumama-expert-24-played-incomplete-0000000013.png',\n       'datasets\\\\data\\\\TEST-okinimesumama-expert-24-played-incomplete\\\\okinimesumama-expert-24-played-incomplete-0000000014.png',\n       'datasets\\\\data\\\\TEST-okinimesumama-expert-24-played-incomplete\\\\okinimesumama-expert-24-played-incomplete-0000000015.png',\n       'datasets\\\\data\\\\TEST-okinimesumama-expert-24-played-incomplete\\\\okinimesumama-expert-24-played-incomplete-0000000016.png',\n       'datasets\\\\data\\\\TEST-okinimesumama-expert-24-played-incomplete\\\\okinimesumama-expert-24-played-incomplete-0000000017.png',\n       'datasets\\\\data\\\\TEST-okinimesumama-expert-24-played-incomplete\\\\okinimesumama-expert-24-played-incomplete-0000000018.png',\n       'datasets\\\\data\\\\TEST-okinimesumama-expert-24-played-incomplete\\\\okinimesumama-expert-24-played-incomplete-0000000019.png',\n       'datasets\\\\data\\\\TEST-okinimesumama-expert-24-played-incomplete\\\\okinimesumama-expert-24-played-incomplete-0000000020.png',\n       'datasets\\\\data\\\\TEST-okinimesumama-expert-24-played-incomplete\\\\okinimesumama-expert-24-played-incomplete-0000000021.png',\n       'datasets\\\\data\\\\TEST-okinimesumama-expert-24-played-incomplete\\\\okinimesumama-expert-24-played-incomplete-0000000022.png',\n       'datasets\\\\data\\\\TEST-okinimesumama-expert-24-played-incomplete\\\\okinimesumama-expert-24-played-incomplete-0000000023.png',\n       'datasets\\\\data\\\\TEST-okinimesumama-expert-24-played-incomplete\\\\okinimesumama-expert-24-played-incomplete-0000000024.png',\n       'datasets\\\\data\\\\TEST-okinimesumama-expert-24-played-incomplete\\\\okinimesumama-expert-24-played-incomplete-0000000025.png',\n       'datasets\\\\data\\\\TEST-okinimesumama-expert-24-played-incomplete\\\\okinimesumama-expert-24-played-incomplete-0000000026.png',\n       'datasets\\\\data\\\\TEST-okinimesumama-expert-24-played-incomplete\\\\okinimesumama-expert-24-played-incomplete-0000000027.png',\n       'datasets\\\\data\\\\TEST-okinimesumama-expert-24-played-incomplete\\\\okinimesumama-expert-24-played-incomplete-0000000028.png',\n       'datasets\\\\data\\\\TEST-okinimesumama-expert-24-played-incomplete\\\\okinimesumama-expert-24-played-incomplete-0000000029.png',\n       'datasets\\\\data\\\\TEST-okinimesumama-expert-24-played-incomplete\\\\okinimesumama-expert-24-played-incomplete-0000000030.png',\n       'datasets\\\\data\\\\TEST-okinimesumama-expert-24-played-incomplete\\\\okinimesumama-expert-24-played-incomplete-0000000031.png',\n       'datasets\\\\data\\\\TEST-okinimesumama-expert-24-played-incomplete\\\\okinimesumama-expert-24-played-incomplete-0000000032.png',\n       'datasets\\\\data\\\\TEST-okinimesumama-expert-24-played-incomplete\\\\okinimesumama-expert-24-played-incomplete-0000000033.png',\n       'datasets\\\\data\\\\TEST-okinimesumama-expert-24-played-incomplete\\\\okinimesumama-expert-24-played-incomplete-0000000034.png',\n       'datasets\\\\data\\\\TEST-okinimesumama-expert-24-played-incomplete\\\\okinimesumama-expert-24-played-incomplete-0000000035.png',\n       'datasets\\\\data\\\\TEST-okinimesumama-expert-24-played-incomplete\\\\okinimesumama-expert-24-played-incomplete-0000000036.png',\n       'datasets\\\\data\\\\TEST-okinimesumama-expert-24-played-incomplete\\\\okinimesumama-expert-24-played-incomplete-0000000037.png',\n       'datasets\\\\data\\\\TEST-okinimesumama-expert-24-played-incomplete\\\\okinimesumama-expert-24-played-incomplete-0000000038.png',\n       'datasets\\\\data\\\\TEST-okinimesumama-expert-24-played-incomplete\\\\okinimesumama-expert-24-played-incomplete-0000000039.png',\n       'datasets\\\\data\\\\TEST-okinimesumama-expert-24-played-incomplete\\\\okinimesumama-expert-24-played-incomplete-0000000040.png',\n       'datasets\\\\data\\\\TEST-okinimesumama-expert-24-played-incomplete\\\\okinimesumama-expert-24-played-incomplete-0000000041.png',\n       'datasets\\\\data\\\\TEST-okinimesumama-expert-24-played-incomplete\\\\okinimesumama-expert-24-played-incomplete-0000000042.png',\n       'datasets\\\\data\\\\TEST-okinimesumama-expert-24-played-incomplete\\\\okinimesumama-expert-24-played-incomplete-0000000043.png',\n       'datasets\\\\data\\\\TEST-okinimesumama-expert-24-played-incomplete\\\\okinimesumama-expert-24-played-incomplete-0000000044.png',\n       'datasets\\\\data\\\\TEST-okinimesumama-expert-24-played-incomplete\\\\okinimesumama-expert-24-played-incomplete-0000000045.png',\n       'datasets\\\\data\\\\TEST-okinimesumama-expert-24-played-incomplete\\\\okinimesumama-expert-24-played-incomplete-0000000046.png',\n       'datasets\\\\data\\\\TEST-okinimesumama-expert-24-played-incomplete\\\\okinimesumama-expert-24-played-incomplete-0000000047.png',\n       'datasets\\\\data\\\\TEST-okinimesumama-expert-24-played-incomplete\\\\okinimesumama-expert-24-played-incomplete-0000000048.png',\n       'datasets\\\\data\\\\TEST-okinimesumama-expert-24-played-incomplete\\\\okinimesumama-expert-24-played-incomplete-0000000049.png',\n       'datasets\\\\data\\\\TEST-okinimesumama-expert-24-played-incomplete\\\\okinimesumama-expert-24-played-incomplete-0000000050.png',\n       'datasets\\\\data\\\\TEST-okinimesumama-expert-24-played-incomplete\\\\okinimesumama-expert-24-played-incomplete-0000000051.png',\n       'datasets\\\\data\\\\TEST-okinimesumama-expert-24-played-incomplete\\\\okinimesumama-expert-24-played-incomplete-0000000052.png',\n       'datasets\\\\data\\\\TEST-okinimesumama-expert-24-played-incomplete\\\\okinimesumama-expert-24-played-incomplete-0000000053.png',\n       'datasets\\\\data\\\\TEST-okinimesumama-expert-24-played-incomplete\\\\okinimesumama-expert-24-played-incomplete-0000000054.png',\n       'datasets\\\\data\\\\TEST-okinimesumama-expert-24-played-incomplete\\\\okinimesumama-expert-24-played-incomplete-0000000055.png',\n       'datasets\\\\data\\\\TEST-okinimesumama-expert-24-played-incomplete\\\\okinimesumama-expert-24-played-incomplete-0000000056.png',\n       'datasets\\\\data\\\\TEST-okinimesumama-expert-24-played-incomplete\\\\okinimesumama-expert-24-played-incomplete-0000000057.png',\n       'datasets\\\\data\\\\TEST-okinimesumama-expert-24-played-incomplete\\\\okinimesumama-expert-24-played-incomplete-0000000058.png',\n       'datasets\\\\data\\\\TEST-okinimesumama-expert-24-played-incomplete\\\\okinimesumama-expert-24-played-incomplete-0000000059.png',\n       'datasets\\\\data\\\\TEST-okinimesumama-expert-24-played-incomplete\\\\okinimesumama-expert-24-played-incomplete-0000000060.png',\n       'datasets\\\\data\\\\TEST-okinimesumama-expert-24-played-incomplete\\\\okinimesumama-expert-24-played-incomplete-0000000061.png',\n       'datasets\\\\data\\\\TEST-okinimesumama-expert-24-played-incomplete\\\\okinimesumama-expert-24-played-incomplete-0000000062.png',\n       'datasets\\\\data\\\\TEST-okinimesumama-expert-24-played-incomplete\\\\okinimesumama-expert-24-played-incomplete-0000000063.png',\n       'datasets\\\\data\\\\TEST-okinimesumama-expert-24-played-incomplete\\\\okinimesumama-expert-24-played-incomplete-0000000064.png',\n       'datasets\\\\data\\\\TEST-okinimesumama-expert-24-played-incomplete\\\\okinimesumama-expert-24-played-incomplete-0000000065.png',\n       'datasets\\\\data\\\\TEST-okinimesumama-expert-24-played-incomplete\\\\okinimesumama-expert-24-played-incomplete-0000000066.png',\n       'datasets\\\\data\\\\TEST-okinimesumama-expert-24-played-incomplete\\\\okinimesumama-expert-24-played-incomplete-0000000067.png',\n       'datasets\\\\data\\\\TEST-okinimesumama-expert-24-played-incomplete\\\\okinimesumama-expert-24-played-incomplete-0000000068.png',\n       'datasets\\\\data\\\\TEST-okinimesumama-expert-24-played-incomplete\\\\okinimesumama-expert-24-played-incomplete-0000000069.png',\n       'datasets\\\\data\\\\TEST-okinimesumama-expert-24-played-incomplete\\\\okinimesumama-expert-24-played-incomplete-0000000070.png',\n       'datasets\\\\data\\\\TEST-okinimesumama-expert-24-played-incomplete\\\\okinimesumama-expert-24-played-incomplete-0000000071.png',\n       'datasets\\\\data\\\\TEST-okinimesumama-expert-24-played-incomplete\\\\okinimesumama-expert-24-played-incomplete-0000000072.png',\n       'datasets\\\\data\\\\TEST-okinimesumama-expert-24-played-incomplete\\\\okinimesumama-expert-24-played-incomplete-0000000073.png',\n       'datasets\\\\data\\\\TEST-okinimesumama-expert-24-played-incomplete\\\\okinimesumama-expert-24-played-incomplete-0000000074.png',\n       'datasets\\\\data\\\\TEST-okinimesumama-expert-24-played-incomplete\\\\okinimesumama-expert-24-played-incomplete-0000000075.png',\n       'datasets\\\\data\\\\TEST-okinimesumama-expert-24-played-incomplete\\\\okinimesumama-expert-24-played-incomplete-0000000076.png',\n       'datasets\\\\data\\\\TEST-okinimesumama-expert-24-played-incomplete\\\\okinimesumama-expert-24-played-incomplete-0000000077.png',\n       'datasets\\\\data\\\\TEST-okinimesumama-expert-24-played-incomplete\\\\okinimesumama-expert-24-played-incomplete-0000000078.png',\n       'datasets\\\\data\\\\TEST-okinimesumama-expert-24-played-incomplete\\\\okinimesumama-expert-24-played-incomplete-0000000079.png',\n       'datasets\\\\data\\\\TEST-okinimesumama-expert-24-played-incomplete\\\\okinimesumama-expert-24-played-incomplete-0000000080.png',\n       'datasets\\\\data\\\\TEST-okinimesumama-expert-24-played-incomplete\\\\okinimesumama-expert-24-played-incomplete-0000000081.png',\n       'datasets\\\\data\\\\TEST-okinimesumama-expert-24-played-incomplete\\\\okinimesumama-expert-24-played-incomplete-0000000082.png',\n       'datasets\\\\data\\\\TEST-okinimesumama-expert-24-played-incomplete\\\\okinimesumama-expert-24-played-incomplete-0000000083.png',\n       'datasets\\\\data\\\\TEST-okinimesumama-expert-24-played-incomplete\\\\okinimesumama-expert-24-played-incomplete-0000000084.png',\n       'datasets\\\\data\\\\TEST-okinimesumama-expert-24-played-incomplete\\\\okinimesumama-expert-24-played-incomplete-0000000085.png',\n       'datasets\\\\data\\\\TEST-okinimesumama-expert-24-played-incomplete\\\\okinimesumama-expert-24-played-incomplete-0000000086.png',\n       'datasets\\\\data\\\\TEST-okinimesumama-expert-24-played-incomplete\\\\okinimesumama-expert-24-played-incomplete-0000000087.png',\n       'datasets\\\\data\\\\TEST-okinimesumama-expert-24-played-incomplete\\\\okinimesumama-expert-24-played-incomplete-0000000088.png',\n       'datasets\\\\data\\\\TEST-okinimesumama-expert-24-played-incomplete\\\\okinimesumama-expert-24-played-incomplete-0000000089.png',\n       'datasets\\\\data\\\\TEST-okinimesumama-expert-24-played-incomplete\\\\okinimesumama-expert-24-played-incomplete-0000000090.png',\n       'datasets\\\\data\\\\TEST-okinimesumama-expert-24-played-incomplete\\\\okinimesumama-expert-24-played-incomplete-0000000091.png',\n       'datasets\\\\data\\\\TEST-okinimesumama-expert-24-played-incomplete\\\\okinimesumama-expert-24-played-incomplete-0000000092.png',\n       'datasets\\\\data\\\\TEST-okinimesumama-expert-24-played-incomplete\\\\okinimesumama-expert-24-played-incomplete-0000000093.png',\n       'datasets\\\\data\\\\TEST-okinimesumama-expert-24-played-incomplete\\\\okinimesumama-expert-24-played-incomplete-0000000094.png',\n       'datasets\\\\data\\\\TEST-okinimesumama-expert-24-played-incomplete\\\\okinimesumama-expert-24-played-incomplete-0000000095.png',\n       'datasets\\\\data\\\\TEST-okinimesumama-expert-24-played-incomplete\\\\okinimesumama-expert-24-played-incomplete-0000000096.png',\n       'datasets\\\\data\\\\TEST-okinimesumama-expert-24-played-incomplete\\\\okinimesumama-expert-24-played-incomplete-0000000097.png',\n       'datasets\\\\data\\\\TEST-okinimesumama-expert-24-played-incomplete\\\\okinimesumama-expert-24-played-incomplete-0000000098.png',\n       'datasets\\\\data\\\\TEST-okinimesumama-expert-24-played-incomplete\\\\okinimesumama-expert-24-played-incomplete-0000000099.png'],\n      dtype=object)"
     },
     "execution_count": 522,
     "metadata": {},
     "output_type": "execute_result"
    }
   ],
   "source": [
    "file_names = df[\"file_name\"].values\n",
    "for count, i in enumerate(file_names):\n",
    "    file_names[count] = str(incomplete_dataset_path / i)\n",
    "file_names[:100]  # Truncated to stop the notebook from becoming huge"
   ],
   "metadata": {
    "collapsed": false,
    "ExecuteTime": {
     "end_time": "2023-11-04T03:01:06.475562500Z",
     "start_time": "2023-11-04T03:01:06.356563800Z"
    }
   },
   "id": "c6ef3d9add5d5bfe"
  },
  {
   "cell_type": "code",
   "execution_count": 523,
   "outputs": [
    {
     "data": {
      "text/plain": "      b1     b2     b3     b4     b5     b6     b7     b8\n0  False  False  False  False  False  False  False  False\n1  False  False  False  False  False  False  False  False\n2  False  False  False  False  False  False  False  False\n3  False  False  False  False  False  False  False  False\n4  False  False  False  False  False  False  False  False",
      "text/html": "<div>\n<style scoped>\n    .dataframe tbody tr th:only-of-type {\n        vertical-align: middle;\n    }\n\n    .dataframe tbody tr th {\n        vertical-align: top;\n    }\n\n    .dataframe thead th {\n        text-align: right;\n    }\n</style>\n<table border=\"1\" class=\"dataframe\">\n  <thead>\n    <tr style=\"text-align: right;\">\n      <th></th>\n      <th>b1</th>\n      <th>b2</th>\n      <th>b3</th>\n      <th>b4</th>\n      <th>b5</th>\n      <th>b6</th>\n      <th>b7</th>\n      <th>b8</th>\n    </tr>\n  </thead>\n  <tbody>\n    <tr>\n      <th>0</th>\n      <td>False</td>\n      <td>False</td>\n      <td>False</td>\n      <td>False</td>\n      <td>False</td>\n      <td>False</td>\n      <td>False</td>\n      <td>False</td>\n    </tr>\n    <tr>\n      <th>1</th>\n      <td>False</td>\n      <td>False</td>\n      <td>False</td>\n      <td>False</td>\n      <td>False</td>\n      <td>False</td>\n      <td>False</td>\n      <td>False</td>\n    </tr>\n    <tr>\n      <th>2</th>\n      <td>False</td>\n      <td>False</td>\n      <td>False</td>\n      <td>False</td>\n      <td>False</td>\n      <td>False</td>\n      <td>False</td>\n      <td>False</td>\n    </tr>\n    <tr>\n      <th>3</th>\n      <td>False</td>\n      <td>False</td>\n      <td>False</td>\n      <td>False</td>\n      <td>False</td>\n      <td>False</td>\n      <td>False</td>\n      <td>False</td>\n    </tr>\n    <tr>\n      <th>4</th>\n      <td>False</td>\n      <td>False</td>\n      <td>False</td>\n      <td>False</td>\n      <td>False</td>\n      <td>False</td>\n      <td>False</td>\n      <td>False</td>\n    </tr>\n  </tbody>\n</table>\n</div>"
     },
     "execution_count": 523,
     "metadata": {},
     "output_type": "execute_result"
    }
   ],
   "source": [
    "# Make a copy for labels in case we need everything together later - `df` is intact\n",
    "labels = df.drop(\"file_name\", axis=1)\n",
    "labels.head()"
   ],
   "metadata": {
    "collapsed": false,
    "ExecuteTime": {
     "end_time": "2023-11-04T03:01:06.476062500Z",
     "start_time": "2023-11-04T03:01:06.377563400Z"
    }
   },
   "id": "70e4383ffa0b0070"
  },
  {
   "cell_type": "code",
   "execution_count": 524,
   "outputs": [
    {
     "data": {
      "text/plain": "<_TensorSliceDataset element_spec=(TensorSpec(shape=(), dtype=tf.string, name=None), TensorSpec(shape=(8,), dtype=tf.bool, name=None))>"
     },
     "execution_count": 524,
     "metadata": {},
     "output_type": "execute_result"
    }
   ],
   "source": [
    "# Ensure format of labels is correct\n",
    "dataset_train = tf.data.Dataset.from_tensor_slices((file_names, labels))\n",
    "dataset_train"
   ],
   "metadata": {
    "collapsed": false,
    "ExecuteTime": {
     "end_time": "2023-11-04T03:01:06.477562600Z",
     "start_time": "2023-11-04T03:01:06.390063500Z"
    }
   },
   "id": "179888c1a359eea2"
  },
  {
   "cell_type": "code",
   "execution_count": 525,
   "outputs": [
    {
     "data": {
      "text/plain": "[(False, False, False, False, False, False, False, False),\n (False, False, False, False, False, False, False, False),\n (False, False, False, False, False, False, False, False),\n (False, False, False, False, False, False, False, False),\n (False, False, False, False, False, False, False, False),\n (False, False, False, False, False, False, False, False),\n (False, False, False, False, False, False, False, False),\n (False, False, False, False, False, False, False, False),\n (False, False, False, False, False, False, False, False),\n (False, False, False, False, False, False, False, False),\n (False, False, False, False, False, False, False, False),\n (False, False, False, False, False, False, False, False),\n (False, False, False, False, False, False, False, False),\n (False, False, False, False, False, False, False, False),\n (False, False, False, False, False, False, False, False),\n (False, False, False, False, False, False, False, False),\n (False, False, False, False, False, False, False, False),\n (False, False, False, False, False, False, False, False),\n (False, False, False, False, False, False, False, False),\n (False, False, False, False, False, False, False, False),\n (False, False, False, False, False, False, False, False),\n (False, False, False, False, False, False, False, False),\n (False, False, False, False, False, False, False, False),\n (False, False, False, False, False, False, False, False),\n (False, False, False, False, False, False, False, False),\n (False, False, False, False, False, False, False, False),\n (False, False, False, False, False, False, False, False),\n (False, False, False, False, False, False, False, False),\n (False, False, False, False, False, False, False, False),\n (False, False, False, False, False, False, False, False),\n (False, False, False, False, False, False, False, False),\n (False, False, False, False, False, False, False, False),\n (False, False, False, False, False, False, False, False),\n (False, False, False, False, False, False, False, False),\n (False, False, False, False, False, False, False, False),\n (False, False, False, False, False, False, False, False),\n (False, False, False, False, False, False, False, False),\n (False, False, False, False, False, False, False, False),\n (False, False, False, False, False, False, False, False),\n (False, False, False, False, False, False, False, False),\n (False, False, False, False, False, False, False, False),\n (False, False, False, False, False, False, False, False),\n (False, False, False, False, False, False, False, False),\n (False, False, False, False, False, False, False, False),\n (False, False, False, False, False, False, False, False),\n (False, False, False, False, False, False, False, False),\n (False, False, False, False, False, False, False, False),\n (False, False, False, False, False, False, False, False),\n (False, False, False, False, False, False, False, False),\n (False, False, False, False, False, False, False, False),\n (False, False, False, False, False, False, False, False),\n (False, False, False, False, False, False, False, False),\n (False, False, False, False, False, False, False, False),\n (False, False, False, False, False, False, False, False),\n (False, False, False, False, False, False, False, False),\n (False, False, False, False, False, False, False, False),\n (False, False, False, False, False, False, False, False),\n (False, False, False, False, False, False, False, False),\n (False, False, False, False, False, False, False, False),\n (False, False, False, False, False, False, False, False),\n (False, False, False, False, False, False, False, False),\n (False, False, False, False, False, False, False, False),\n (False, False, False, False, False, False, False, False),\n (False, False, False, False, False, False, False, False),\n (False, False, False, False, False, False, False, False),\n (False, False, False, False, False, False, False, False),\n (False, False, False, False, False, False, False, False),\n (False, False, False, False, False, False, False, False),\n (False, False, False, False, False, False, False, False),\n (False, False, False, False, False, False, False, False),\n (False, False, False, False, False, False, False, False),\n (False, False, False, False, False, False, False, False),\n (False, False, False, False, False, False, False, False),\n (False, False, False, False, False, False, False, False),\n (False, False, False, False, False, False, False, False),\n (False, False, False, False, False, False, False, False),\n (False, False, False, False, False, False, False, False),\n (False, False, False, False, False, False, False, False),\n (False, False, False, False, False, False, False, False),\n (False, False, False, False, False, False, False, False),\n (False, False, False, False, False, False, False, False),\n (False, False, False, False, False, False, False, False),\n (False, False, False, False, False, False, False, False),\n (False, False, False, False, False, False, False, False),\n (False, False, False, False, False, False, False, False),\n (False, False, False, False, False, False, False, False),\n (False, False, False, False, False, False, False, False),\n (False, False, False, False, False, False, False, False),\n (False, False, False, False, False, False, False, False),\n (False, False, False, False, False, False, False, False),\n (False, False, False, False, False, False, False, False),\n (False, False, False, False, False, False, False, False),\n (False, False, False, False, False, False, False, False),\n (False, False, False, False, False, False, False, False),\n (False, False, False, False, False, False, False, False),\n (False, False, False, False, False, False, False, False),\n (False, False, False, False, False, False, False, False),\n (False, False, False, False, False, False, False, False),\n (False, False, False, False, False, False, False, False),\n (False, False, False, False, False, False, False, False),\n (False, False, False, False, False, False, False, False),\n (False, False, False, False, False, False, False, False),\n (False, False, False, False, False, False, False, False),\n (False, False, False, False, False, False, False, False),\n (False, False, False, False, False, False, False, False),\n (False, False, False, False, False, False, False, False),\n (False, False, False, False, False, False, False, False),\n (False, False, False, False, False, False, False, False),\n (False, False, False, False, False, False, False, False),\n (False, False, False, False, False, False, False, False),\n (False, False, False, False, False, False, False, False),\n (False, False, False, False, False, False, False, False),\n (False, False, False, False, False, False, False, False),\n (False, False, False, False, False, False, False, False),\n (False, False, False, False, False, False, False, False),\n (False, False, False, False, False, False, False, False),\n (False, False, False, False, False, False, False, False),\n (False, False, False, False, False, False, False, False),\n (False, False, False, False, False, False, False, False),\n (False, False, False, False, False, False, False, False),\n (False, False, False, False, False, False, False, False),\n (False, False, False, False, False, False, False, False),\n (False, False, False, False, False, False, False, False),\n (False, False, False, False, False, False, False, False),\n (False, False, False, False, False, False, False, False),\n (False, False, False, False, False, False, False, False),\n (False, False, False, False, False, False, False, False),\n (False, False, False, False, False, False, False, False),\n (False, False, False, False, False, False, False, False),\n (False, False, False, False, False, False, False, False),\n (False, False, False, False, False, False, False, False),\n (False, False, False, False, False, False, False, False),\n (False, False, False, False, False, False, False, False),\n (False, False, False, False, False, False, False, False),\n (False, False, False, False, False, False, False, False),\n (False, False, False, False, False, False, False, False),\n (False, False, False, False, False, False, False, False),\n (False, False, False, False, False, False, False, False),\n (False, False, False, False, False, False, False, False),\n (False, False, False, False, False, False, False, False),\n (False, False, False, False, False, False, False, False),\n (False, False, False, False, False, False, False, False),\n (False, False, False, False, False, False, False, False),\n (False, False, False, False, False, False, False, False),\n (False, False, False, False, False, False, False, False),\n (False, False, False, False, False, False, False, False),\n (False, False, False, False, False, False, False, False),\n (False, False, False, False, False, False, False, False),\n (False, False, False, False, False, False, False, False),\n (False, False, False, False, False, False, False, False),\n (False, False, False, False, False, False, False, False),\n (False, False, False, False, False, False, False, False),\n (False, False, False, False, False, False, False, False),\n (False, False, False, False, False, False, False, False),\n (False, False, False, False, False, False, False, False),\n (False, False, False, False, False, False, False, False),\n (False, False, False, False, False, False, False, False),\n (False, False, False, False, False, False, False, False),\n (False, False, False, False, False, False, False, False),\n (False, False, False, False, False, False, False, False),\n (False, False, False, False, False, False, False, False),\n (False, False, False, False, False, False, False, False),\n (False, False, False, False, False, False, False, False),\n (False, False, False, False, False, False, False, False),\n (False, False, False, False, False, False, False, False),\n (False, False, False, False, False, False, False, False),\n (False, False, False, False, False, False, False, False),\n (False, False, False, False, False, False, False, False),\n (False, False, False, False, False, False, False, False),\n (False, False, False, False, False, False, False, False),\n (False, False, False, False, False, False, False, False),\n (False, False, False, False, False, False, False, False),\n (False, False, False, False, False, False, False, False),\n (False, False, False, False, False, False, False, False),\n (False, False, False, False, False, False, False, False),\n (False, False, False, False, False, False, False, False),\n (False, False, False, False, False, False, False, False),\n (False, False, False, False, False, False, False, False),\n (False, False, False, False, False, False, False, False),\n (False, False, False, False, False, False, False, False),\n (False, False, False, False, False, False, False, False),\n (False, False, False, False, False, False, False, False),\n (False, False, False, False, False, False, False, False),\n (False, False, False, False, False, False, False, False),\n (False, False, False, False, False, False, False, False),\n (False, False, False, False, False, False, False, False),\n (False, False, False, False, False, False, False, False),\n (False, False, False, False, False, False, False, False),\n (False, False, False, False, False, False, False, False),\n (False, False, False, False, False, False, False, False),\n (False, False, False, False, False, False, False, False),\n (False, False, False, False, False, False, False, False),\n (False, False, False, False, False, False, False, False),\n (False, False, False, False, False, False, False, False),\n (False, False, False, False, False, False, False, False),\n (False, False, False, False, False, False, False, False),\n (False, False, False, False, False, False, False, False),\n (False, False, False, False, False, False, False, False),\n (False, False, False, False, False, False, False, False),\n (False, False, False, False, False, False, False, False),\n (False, False, False, False, False, False, False, False),\n (False, False, False, False, False, False, False, False),\n (False, False, False, False, False, False, False, False),\n (False, False, False, False, False, False, False, False),\n (False, False, False, False, False, False, False, False),\n (False, False, False, False, False, False, False, False),\n (False, False, False, False, False, False, False, False),\n (False, False, False, False, False, False, False, False),\n (False, False, False, False, False, False, False, False),\n (False, False, False, False, False, False, False, False),\n (False, False, False, False, False, False, False, False),\n (False, False, False, False, False, False, False, False),\n (False, False, False, False, False, False, False, False),\n (False, False, False, False, False, True, False, False),\n (False, False, False, False, False, True, False, False),\n (False, False, False, False, False, True, False, False),\n (False, False, False, False, False, True, False, False),\n (False, False, False, False, False, True, False, False),\n (False, False, False, False, False, True, False, False),\n (False, False, False, False, False, True, False, False),\n (False, False, False, False, False, True, False, False),\n (False, False, False, False, False, True, False, False),\n (False, False, False, False, False, True, False, False),\n (False, False, False, False, False, True, False, False),\n (False, False, False, False, False, True, False, False),\n (False, False, False, False, False, True, False, False),\n (False, False, False, False, False, True, False, False),\n (False, False, False, False, False, True, False, False),\n (False, False, False, False, False, True, False, False),\n (False, False, False, False, False, True, False, False),\n (False, False, False, False, False, True, False, False),\n (False, False, False, False, False, False, False, False),\n (False, False, False, False, False, False, False, False),\n (False, False, False, False, False, False, False, False),\n (False, False, False, False, False, False, False, False),\n (False, False, False, False, False, False, False, False),\n (False, False, False, False, False, False, False, False),\n (False, False, False, False, False, False, False, False),\n (False, False, False, False, False, False, False, False),\n (False, False, False, False, False, False, False, False),\n (False, False, False, False, False, False, False, False),\n (False, False, False, False, False, False, False, False),\n (False, False, False, False, False, False, False, False),\n (False, False, False, False, False, False, False, False),\n (False, False, False, False, False, False, False, False),\n (False, False, True, False, False, False, False, False),\n (False, False, True, False, False, False, False, False),\n (False, False, True, False, False, False, False, False),\n (False, False, True, False, False, False, False, False),\n (False, False, True, False, False, False, False, False),\n (False, False, True, False, False, False, False, False),\n (False, False, True, False, False, False, False, False),\n (False, False, True, False, False, False, False, False),\n (False, False, True, False, False, False, False, False),\n (False, False, True, False, False, False, False, False),\n (False, False, True, False, False, False, False, False),\n (False, False, True, False, False, False, False, False),\n (False, False, True, False, False, False, False, False),\n (False, False, True, False, False, False, False, False),\n (False, False, True, False, False, False, False, False),\n (False, False, True, False, False, False, False, False),\n (False, False, True, False, False, False, False, False),\n (False, False, True, False, False, False, False, False),\n (False, False, True, False, False, False, False, False),\n (False, False, True, False, False, False, False, False),\n (False, False, True, False, False, False, False, False),\n (False, False, True, False, False, False, False, False),\n (False, False, True, False, False, False, False, False),\n (False, False, True, False, False, False, False, False),\n (False, False, True, False, False, False, False, False),\n (False, False, True, False, False, False, False, False),\n (False, False, False, False, False, False, False, False),\n (False, False, False, False, False, False, False, False),\n (False, False, False, False, False, False, False, False),\n (False, False, False, False, False, False, False, False),\n (False, False, False, False, False, False, False, False),\n (False, False, False, False, False, False, False, False),\n (False, False, False, False, False, False, False, False),\n (False, False, False, False, False, False, False, False),\n (False, False, False, False, False, False, False, False),\n (False, False, False, False, False, False, False, False),\n (False, False, False, False, False, False, False, False),\n (False, False, False, False, False, False, False, False),\n (False, False, False, False, False, False, False, False),\n (False, False, False, False, False, False, True, False),\n (False, False, False, False, False, False, True, False),\n (False, False, False, False, False, False, True, False),\n (False, False, False, False, False, False, True, False),\n (False, False, False, False, False, False, True, False),\n (False, False, False, False, False, False, True, False),\n (False, False, False, False, False, False, True, False),\n (False, False, False, False, False, False, True, False),\n (False, False, False, False, False, False, True, False),\n (False, False, False, False, False, False, True, False),\n (False, False, False, False, False, False, True, False),\n (False, False, False, False, False, False, True, False),\n (False, False, False, False, False, False, True, False),\n (False, False, False, False, False, False, True, False),\n (False, False, False, False, False, False, True, False),\n (False, False, False, False, False, False, True, False),\n (False, False, False, False, False, False, True, False),\n (False, False, False, False, False, False, True, False),\n (False, False, False, False, False, False, True, False),\n (False, False, False, False, False, False, True, False),\n (False, False, False, False, False, False, True, False),\n (False, False, False, False, False, False, True, False),\n (False, False, False, False, False, False, True, False),\n (False, False, False, False, False, False, True, False),\n (False, False, False, False, False, False, True, False),\n (False, False, False, False, False, False, True, False),\n (False, False, False, False, False, False, True, False),\n (False, False, False, False, False, False, True, False),\n (False, False, False, False, False, False, False, False),\n (False, False, False, False, False, False, False, False),\n (False, False, False, False, False, False, False, False),\n (False, False, False, False, False, False, False, False),\n (False, False, False, False, False, False, False, False),\n (False, False, False, False, False, False, False, False),\n (False, False, False, False, False, False, False, False),\n (False, False, False, False, False, False, False, False),\n (False, False, False, False, False, False, False, False),\n (False, False, False, False, False, False, False, False),\n (False, False, False, False, False, False, False, False),\n (False, False, False, False, False, False, False, False),\n (False, False, False, False, False, False, False, False),\n (False, True, False, False, False, False, False, False),\n (False, True, False, False, False, False, False, False),\n (False, True, False, False, False, False, False, False),\n (False, True, False, False, False, False, False, False),\n (False, True, False, False, False, False, False, False),\n (False, True, False, False, False, False, False, False),\n (False, True, False, False, False, False, False, False),\n (False, True, False, False, False, False, False, False),\n (False, True, False, False, False, False, False, False),\n (False, True, False, False, False, False, False, False),\n (False, True, False, False, False, False, False, False),\n (False, True, False, False, False, False, False, False),\n (False, True, False, False, False, False, False, False),\n (False, True, False, False, False, False, False, False),\n (False, True, False, False, False, False, False, False),\n (False, True, False, False, False, False, False, False),\n (False, True, False, False, False, False, False, False),\n (False, True, False, False, False, False, False, False),\n (False, True, False, False, False, False, False, False),\n (False, True, False, False, False, False, False, False),\n (False, True, False, False, False, False, False, False),\n (False, True, False, False, False, False, False, False),\n (False, True, False, False, False, False, False, False),\n (False, True, False, False, False, False, False, False),\n (False, True, False, False, False, False, False, False),\n (False, True, False, False, False, False, False, False),\n (False, True, False, False, False, False, False, False),\n (False, False, False, False, False, False, False, False),\n (False, False, False, False, False, False, False, False),\n (False, False, False, False, False, False, False, False),\n (False, False, False, False, False, False, False, False),\n (False, False, False, False, False, False, False, False),\n (False, False, False, False, False, False, False, False),\n (False, False, False, False, False, False, False, False),\n (False, False, False, False, False, False, False, False),\n (False, False, False, False, False, False, False, False),\n (False, False, False, False, False, False, False, False),\n (False, False, False, False, False, False, False, False),\n (False, False, False, False, False, False, False, False),\n (False, False, False, False, False, False, False, False),\n (False, False, False, False, False, False, False, False),\n (False, False, False, False, False, False, False, True),\n (False, False, False, False, False, False, False, True),\n (False, False, False, False, False, False, False, True),\n (False, False, False, False, False, False, False, True),\n (False, False, False, False, False, False, False, True),\n (False, False, False, False, False, False, False, True),\n (False, False, False, False, False, False, False, True),\n (False, False, False, False, False, False, False, True),\n (False, False, False, False, False, False, False, True),\n (False, False, True, False, True, False, False, True),\n (False, False, True, False, True, False, False, True),\n (False, False, True, False, True, False, False, True),\n (False, False, True, False, True, False, False, True),\n (False, False, True, False, True, False, False, True),\n (False, False, True, False, True, False, False, True),\n (False, False, True, False, True, False, False, True),\n (False, False, True, False, True, False, False, True),\n (False, False, True, False, True, False, False, True),\n (False, False, True, True, True, False, False, False),\n (False, False, True, True, True, False, False, False),\n (False, False, True, True, True, False, False, False),\n (False, False, True, True, True, False, False, False),\n (False, False, True, True, True, False, False, False),\n (False, False, True, True, True, False, False, False),\n (False, False, True, True, True, False, False, False),\n (False, False, True, True, True, False, False, False),\n (False, False, False, True, False, False, False, False),\n (False, False, False, True, False, False, False, False),\n (False, False, False, True, False, False, False, False),\n (False, False, False, True, True, False, False, False),\n (False, False, False, True, True, False, False, False),\n (False, False, False, True, True, False, False, False),\n (False, False, False, True, True, False, False, False),\n (False, False, False, True, True, False, False, False),\n (False, False, False, True, True, False, False, False),\n (False, False, False, True, True, False, False, False),\n (False, False, False, False, True, False, False, False),\n (False, False, False, False, True, False, False, False),\n (False, False, False, False, True, False, False, False),\n (False, False, False, False, True, False, True, False),\n (False, False, False, False, True, False, True, False),\n (False, False, False, False, True, False, True, False),\n (False, False, False, False, True, False, True, False),\n (False, False, False, False, True, False, True, False),\n (False, False, False, False, True, False, True, False),\n (False, False, False, False, True, False, True, False),\n (False, False, False, False, False, False, True, False),\n (False, False, False, False, False, False, True, False),\n (False, False, False, True, False, True, True, False),\n (False, False, False, True, False, True, True, False),\n (False, False, False, True, False, True, True, False),\n (False, False, False, True, False, True, True, False),\n (False, False, False, True, False, True, True, False),\n (False, False, False, True, False, True, True, False),\n (False, False, False, True, False, True, True, False),\n (False, False, False, True, False, True, True, False),\n (False, False, False, True, False, True, True, False),\n (False, False, False, True, False, True, True, False),\n (False, False, False, True, True, True, False, False),\n (False, False, False, True, True, True, False, False),\n (False, False, False, True, True, True, False, False),\n (False, False, False, True, True, True, False, False),\n (False, False, False, True, True, True, False, False),\n (False, False, False, True, True, True, False, False),\n (False, False, False, True, True, True, False, False),\n (False, False, False, False, True, False, False, False),\n (False, False, False, False, True, False, False, False),\n (False, False, False, False, True, False, False, False),\n (False, False, False, False, True, False, False, False),\n (False, False, False, False, True, False, False, False),\n (False, False, False, False, True, False, False, False),\n (False, False, False, True, True, False, False, False),\n (False, False, False, True, True, False, False, False),\n (False, False, False, True, True, False, False, False),\n (False, False, False, True, True, False, False, False),\n (False, False, False, True, False, False, False, False),\n (False, False, False, True, False, False, False, False),\n (False, False, False, True, False, False, False, False),\n (False, False, False, True, False, False, False, False),\n (False, False, False, True, False, False, False, False),\n (False, True, False, True, False, False, False, False),\n (False, True, False, True, False, False, False, False),\n (False, True, False, True, False, False, False, False),\n (False, True, False, True, False, False, False, False),\n (False, True, False, True, False, False, False, False),\n (False, True, False, True, False, False, False, False),\n (False, True, False, False, False, False, False, False),\n (False, True, False, False, False, False, False, False),\n (False, True, False, False, False, False, False, False),\n (False, True, True, False, True, False, False, False),\n (False, True, True, False, True, False, False, False),\n (False, True, True, False, True, False, False, False),\n (False, True, True, False, True, False, False, False),\n (False, True, True, False, True, False, False, False),\n (False, True, True, False, True, False, False, False),\n (False, False, True, False, True, False, False, False),\n (False, False, True, False, True, False, False, False),\n (False, False, True, False, True, False, False, False),\n (False, False, True, False, True, False, False, False),\n (False, False, True, True, True, False, False, False),\n (False, False, True, True, True, False, False, False),\n (False, False, True, True, True, False, False, False),\n (False, False, True, True, True, False, False, False),\n (False, False, True, True, True, False, False, False),\n (False, False, True, True, True, False, False, False),\n (False, False, True, True, True, False, False, False),\n (False, False, True, True, True, False, False, False),\n (False, False, False, True, False, False, False, False),\n (False, False, False, True, False, False, False, False),\n (False, False, False, True, True, False, False, False),\n (False, False, False, True, True, False, False, False),\n (False, False, False, True, True, False, False, False),\n (False, False, False, True, True, False, False, False),\n (False, False, False, True, True, False, False, False),\n (False, False, False, True, True, False, False, False),\n (False, False, False, False, True, False, False, False),\n (False, False, False, False, True, False, False, False),\n (False, False, False, False, True, False, False, False),\n (False, False, False, False, True, False, False, False),\n (False, False, False, True, True, True, False, False),\n (False, False, False, True, True, True, False, False),\n (False, False, False, True, True, True, False, False),\n (False, False, False, True, True, True, False, False),\n (False, False, False, True, True, True, False, False),\n (False, False, False, True, True, True, False, False),\n (False, False, False, True, True, True, False, False),\n (False, False, False, True, True, True, False, False),\n (False, False, False, True, False, True, False, False),\n (False, False, False, True, False, True, False, False),\n (False, False, False, True, False, True, False, False),\n (False, False, False, True, False, True, False, False),\n (False, False, False, True, True, True, False, False),\n (False, False, False, True, True, True, False, False),\n (False, False, False, True, True, True, False, False),\n (False, False, False, True, True, True, False, False),\n (False, False, False, True, True, True, False, False),\n (False, False, False, False, True, True, False, False),\n (False, False, False, False, True, True, False, False),\n (False, False, False, False, True, True, False, False),\n (False, False, False, False, True, True, False, False),\n (False, False, False, False, True, True, False, False),\n (False, False, False, False, True, True, False, False),\n (False, False, False, False, True, True, False, False),\n (False, False, False, False, True, True, False, False),\n (False, False, False, False, True, True, False, False),\n (False, False, False, False, True, True, False, False),\n (False, False, False, False, True, True, False, False),\n (False, False, False, False, True, True, False, False),\n (False, False, False, False, True, True, False, False),\n (False, False, False, False, True, True, False, False),\n (False, False, False, True, True, True, False, False),\n (False, False, False, True, True, True, False, False),\n (False, False, False, True, True, True, False, False),\n (False, False, False, True, True, True, False, False),\n (False, False, False, True, True, True, False, False),\n (False, False, False, True, True, True, False, False),\n (False, False, False, True, True, True, False, False),\n (False, False, False, True, True, True, False, False),\n (False, False, False, True, True, False, False, False),\n (False, False, True, True, True, True, False, False),\n (False, False, True, True, True, True, False, False),\n (False, False, True, True, True, True, False, False),\n (False, False, True, True, True, True, False, False),\n (False, False, True, True, True, True, False, False),\n (False, False, True, False, True, True, False, False),\n (False, False, True, False, True, True, False, False),\n (False, False, True, False, True, True, False, False),\n (False, False, True, False, True, True, False, False),\n (False, False, True, False, True, True, False, False),\n (False, False, True, False, False, True, False, False),\n (False, False, True, False, False, True, False, False),\n (False, False, True, False, False, True, False, False),\n (False, False, True, False, False, True, False, False),\n (False, False, True, False, False, True, False, False),\n (False, False, True, False, False, True, False, False),\n (False, False, True, False, False, True, False, False),\n (False, False, True, False, False, True, False, False),\n (False, False, True, False, False, True, False, False),\n (False, False, True, False, False, False, False, False),\n (False, False, True, False, False, False, False, False),\n (False, False, True, True, False, False, False, False),\n (False, False, True, True, False, False, False, False),\n (False, False, True, True, False, False, False, False),\n (False, False, True, True, False, False, False, False),\n (False, False, True, True, False, False, False, False),\n (False, False, True, True, False, False, False, False),\n (False, False, True, True, False, False, False, False),\n (False, False, True, True, False, False, False, False),\n (False, False, True, True, False, False, False, False),\n (False, False, True, True, False, False, False, False),\n (False, False, True, True, False, False, False, False),\n (False, False, True, True, False, False, False, False),\n (False, False, True, True, False, False, False, False),\n (False, False, True, True, False, False, False, False),\n (False, False, True, True, False, False, False, False),\n (False, False, True, True, False, False, False, False),\n (False, False, True, True, False, False, False, False),\n (False, False, True, True, False, False, False, False),\n (False, False, True, True, False, False, False, False),\n (False, False, True, True, False, False, False, False),\n (False, False, True, True, False, True, False, False),\n (False, False, True, True, False, True, False, False),\n (False, False, True, True, False, True, False, False),\n (False, False, True, True, False, True, False, False),\n (False, False, True, True, False, True, False, False),\n (False, False, True, True, False, True, False, False),\n (False, False, True, True, False, True, False, False),\n (False, False, True, True, False, True, False, False),\n (False, False, False, True, False, True, False, False),\n (False, False, False, True, False, True, False, False),\n (False, False, False, True, False, True, False, False),\n (False, False, True, True, False, True, False, False),\n (False, False, True, True, False, True, False, False),\n (False, False, True, True, False, True, False, False),\n (False, False, True, True, False, True, False, False),\n (False, False, True, True, False, True, False, False),\n (False, False, True, True, False, False, False, False),\n (False, False, True, False, False, False, False, False),\n (False, False, True, False, False, False, False, False),\n (False, False, True, False, False, False, False, False),\n (False, False, True, False, False, False, False, False),\n (False, False, True, True, False, False, False, False),\n (False, False, True, True, False, False, False, False),\n (False, False, True, True, False, False, False, False),\n (False, False, True, True, False, False, False, False),\n (False, False, True, True, False, False, False, False),\n (False, False, True, True, False, False, False, False),\n (False, False, True, True, False, False, False, False),\n (False, False, True, True, False, False, False, False),\n (False, False, True, True, True, False, False, False),\n (False, False, True, True, True, False, False, False),\n (False, False, True, True, True, False, False, False),\n (False, False, True, True, True, False, False, False),\n (False, False, True, True, True, False, False, False),\n (False, False, True, True, True, False, False, False),\n (False, False, True, True, True, False, False, False),\n (False, False, True, True, True, False, False, False),\n (False, False, True, False, True, False, False, False),\n (False, False, True, False, True, False, False, False),\n (False, False, True, False, True, False, False, False),\n (False, False, True, True, True, True, False, False),\n (False, False, True, True, True, True, False, False),\n (False, False, True, True, True, True, False, False),\n (False, False, True, True, True, True, False, False),\n (False, False, True, True, True, True, False, False),\n (False, False, True, True, True, True, False, False),\n (False, False, True, True, True, True, False, False),\n (False, False, False, True, False, True, False, False),\n (False, False, False, True, False, True, False, False),\n (False, False, False, True, False, True, True, False),\n (False, False, False, True, False, True, True, False),\n (False, False, False, True, False, True, True, False),\n (False, False, False, True, False, True, True, False),\n (False, False, False, True, False, True, True, False),\n (False, False, False, True, False, True, True, False),\n (False, False, False, True, False, True, True, False),\n (False, False, False, True, False, True, True, False),\n (False, False, False, False, False, False, True, False),\n (False, False, False, False, False, False, True, False),\n (False, False, False, False, False, False, True, False),\n (False, False, False, False, False, False, True, False),\n (False, False, False, False, True, False, True, False),\n (False, False, False, False, True, False, True, False),\n (False, False, False, False, True, False, True, False),\n (False, False, False, False, True, False, True, False),\n (False, False, False, False, True, False, True, False),\n (False, False, False, False, True, False, False, False),\n (False, False, False, False, True, False, False, False),\n (False, False, False, False, True, False, False, False),\n (False, False, True, False, True, False, False, False),\n (False, False, True, False, True, False, False, False),\n (False, False, True, False, True, False, False, False),\n (False, False, True, False, True, False, False, False),\n (False, False, True, False, True, False, False, False),\n (False, False, True, False, True, False, False, False),\n (False, False, True, False, True, False, False, False),\n (False, False, True, False, True, False, False, False),\n (False, False, True, False, False, False, False, False),\n (False, False, True, False, False, False, False, False),\n (False, False, True, False, False, False, False, False),\n (False, False, True, False, False, False, False, False),\n (False, True, True, True, False, False, False, False),\n (False, True, True, True, False, False, False, False),\n (False, True, True, True, False, False, False, False),\n (False, True, True, True, False, False, False, False),\n (False, True, True, True, False, False, False, False),\n (False, True, True, True, False, False, False, False),\n (False, True, True, True, False, False, False, False),\n (False, True, False, True, False, False, False, False),\n (False, True, False, True, False, False, False, False),\n (False, True, False, True, False, False, False, False),\n (False, True, False, True, False, False, False, False),\n (False, True, False, True, False, False, False, False),\n (False, True, False, True, False, False, False, False),\n (False, True, False, True, False, False, False, False),\n (False, True, False, True, False, False, False, False),\n (False, True, False, True, False, False, False, False),\n (False, False, False, True, False, False, False, False),\n (False, False, False, True, False, False, False, False),\n (False, False, False, False, False, False, False, False),\n (False, False, False, False, False, False, False, False),\n (False, False, False, False, False, False, False, False),\n (False, False, False, False, False, False, False, False),\n (False, False, False, False, False, False, False, False),\n (False, False, False, False, False, False, False, False),\n (False, False, False, False, False, False, False, False),\n (False, False, False, False, False, False, False, False),\n (False, False, False, False, False, False, False, False),\n (False, False, False, False, False, False, False, False),\n (False, False, False, False, False, False, False, False),\n (False, False, False, False, False, False, False, True),\n (False, False, False, False, False, False, False, True),\n (False, False, False, False, False, False, False, True),\n (False, False, False, False, False, False, False, True),\n (False, False, False, False, False, False, False, True),\n (False, False, False, False, False, False, False, True),\n (False, False, False, False, False, False, False, True),\n (False, False, False, False, False, False, False, True),\n (False, False, False, False, False, False, False, True),\n (False, False, False, False, False, False, False, True),\n (True, False, False, False, False, False, True, True),\n (True, False, False, False, False, False, True, True),\n (True, False, False, False, False, False, True, True),\n (True, False, False, False, False, False, True, True),\n (True, False, False, False, False, False, True, True),\n (True, False, False, False, False, False, True, True),\n (True, False, False, False, False, False, True, False),\n (True, False, False, False, False, False, True, False),\n (True, False, False, False, False, False, True, False),\n (True, False, False, False, False, False, True, False),\n (True, False, False, False, False, False, True, False),\n (True, False, False, False, False, True, True, False),\n (True, False, False, False, False, True, True, False),\n (True, False, False, False, False, True, True, False),\n (True, False, False, False, False, True, True, False),\n (True, False, False, False, False, True, True, False),\n (True, False, False, False, False, True, True, False),\n (False, False, False, False, False, True, False, False),\n (False, False, False, False, False, True, False, False),\n (False, False, False, False, False, True, False, False),\n (False, False, False, False, False, True, False, False),\n (False, False, False, False, True, True, False, False),\n (False, False, False, False, True, True, False, False),\n (False, False, False, False, True, True, False, False),\n (False, False, False, False, True, True, False, False),\n (False, False, False, False, True, True, False, False),\n (False, False, False, False, True, True, False, False),\n (False, False, False, False, True, True, False, False),\n (False, False, False, False, True, True, False, False),\n (False, False, False, False, True, True, False, False),\n (False, False, False, False, True, True, False, False),\n (False, False, False, False, True, True, False, False),\n (False, False, False, False, True, True, False, False),\n (False, False, False, False, True, True, False, False),\n (False, False, False, False, True, True, False, False),\n (False, False, False, False, True, True, False, False),\n (False, False, False, False, True, True, False, False),\n (False, False, False, False, True, True, False, False),\n (False, False, False, False, True, True, False, False),\n (False, False, False, False, True, True, False, False),\n (False, False, False, False, True, True, False, False),\n (False, False, True, False, True, True, False, False),\n (False, False, True, False, True, True, False, False),\n (False, False, True, False, True, True, False, False),\n (False, False, True, False, True, True, False, False),\n (False, False, True, False, True, True, False, False),\n (False, False, True, False, True, True, False, False),\n (False, False, True, False, True, True, False, False),\n (False, False, True, False, True, True, False, False),\n (False, False, True, False, True, False, False, False),\n (False, False, True, False, True, False, False, False),\n (False, False, True, False, True, True, False, False),\n (False, False, True, False, True, True, False, False),\n (False, False, True, False, True, True, False, False),\n (False, False, True, False, True, True, False, False),\n (False, False, True, False, True, True, False, False),\n (False, False, True, False, True, True, False, False),\n (False, False, True, False, True, True, False, False),\n (False, False, True, False, True, True, False, False),\n (False, False, False, False, False, True, False, False),\n (False, False, False, False, False, True, False, False),\n (False, False, False, False, True, True, False, False),\n (False, False, False, False, True, True, False, False),\n (False, False, False, False, True, True, False, False),\n (False, False, False, False, True, True, False, False),\n (False, False, False, False, True, True, False, False),\n (False, False, False, False, True, True, False, False),\n (False, False, False, False, True, True, False, False),\n (False, False, False, False, True, True, False, False),\n (False, False, False, False, True, True, False, False),\n (False, False, False, False, True, True, False, False),\n (False, False, False, True, True, True, False, False),\n (False, False, False, True, True, True, False, False),\n (False, False, False, True, True, True, False, False),\n (False, False, False, True, True, True, False, False),\n (False, False, False, True, True, True, False, False),\n (False, False, False, True, True, True, False, False),\n (False, False, False, True, True, True, False, False),\n (False, False, False, True, False, True, False, False),\n (False, False, False, True, False, True, False, False),\n (False, False, True, True, True, True, False, False),\n (False, False, True, True, True, True, False, False),\n (False, False, True, True, True, True, False, False),\n (False, False, True, True, True, True, False, False),\n (False, False, True, True, True, True, False, False),\n (False, False, True, True, True, True, False, False),\n (False, False, True, False, True, True, False, False),\n (False, False, True, False, True, True, False, False),\n (False, False, True, False, True, True, False, False),\n (False, False, True, False, True, False, False, False),\n (False, False, True, False, True, False, False, False),\n (False, False, True, False, True, False, False, False),\n (False, True, True, False, True, False, False, False),\n (False, True, True, False, True, False, False, False),\n (False, True, True, False, True, False, False, False),\n (False, True, True, False, True, False, False, False),\n (False, True, True, False, True, False, False, False),\n (False, True, True, False, True, False, False, False),\n (False, True, False, False, False, False, False, False),\n (False, True, False, False, False, False, False, False),\n (False, True, False, False, False, False, False, False),\n (False, True, False, False, False, False, False, False),\n (False, True, False, True, False, False, False, False),\n (False, True, False, True, False, False, False, False),\n (False, True, False, True, False, False, False, False),\n (False, True, False, True, False, False, False, False),\n (False, True, False, True, False, False, False, False),\n (False, False, False, True, False, False, False, False),\n (False, False, False, True, False, False, False, False),\n (False, False, False, True, False, False, False, False),\n (False, False, False, True, False, False, False, False),\n (False, False, False, True, False, False, False, False),\n (False, False, False, True, False, True, False, False),\n (False, False, False, True, False, True, False, False),\n (False, False, False, True, False, True, False, False),\n (False, False, False, True, False, True, False, False),\n (False, False, False, True, False, True, False, False),\n (False, False, False, True, False, True, False, False),\n (False, False, False, False, False, True, False, False),\n (False, False, False, False, False, True, False, False),\n (False, False, False, False, False, True, False, False),\n (False, False, False, False, False, True, False, False),\n (False, False, False, False, True, True, True, False),\n (False, False, False, False, True, True, True, False),\n (False, False, False, False, True, True, True, False),\n (False, False, False, False, True, True, True, False),\n (False, False, False, False, True, True, True, False),\n (False, False, False, False, True, True, True, False),\n (False, False, False, False, True, True, True, False),\n (False, False, False, False, True, False, True, False),\n (False, False, False, False, True, False, True, False),\n (False, False, False, False, True, False, True, False),\n (False, False, False, False, True, False, True, False),\n (False, False, False, False, True, False, True, False),\n (False, False, False, False, True, False, True, False),\n (False, False, False, False, True, False, True, False),\n (False, False, False, False, True, False, True, False),\n (False, False, False, False, True, False, False, False),\n (False, False, False, False, False, False, False, False),\n (False, False, False, False, False, False, False, False),\n (False, False, False, False, False, False, False, False),\n (False, False, False, False, False, False, False, False),\n (False, False, False, False, False, False, False, False),\n (False, False, False, False, False, False, False, False),\n (False, False, False, False, False, False, False, False),\n (False, False, False, False, False, False, False, False),\n (False, False, False, False, False, False, False, False),\n (False, False, False, False, False, False, False, False),\n (False, False, False, False, False, False, False, False),\n (False, False, False, False, False, False, False, False),\n (False, False, False, False, False, False, False, False),\n (True, False, False, False, False, False, False, True),\n (True, False, False, False, False, False, False, True),\n (True, False, False, False, False, False, False, True),\n (True, False, False, False, False, False, False, True),\n (True, False, False, False, False, False, False, True),\n (True, False, False, False, False, False, False, True),\n (True, False, False, False, False, False, False, True),\n (True, False, False, False, False, False, False, True),\n (True, False, False, False, False, False, False, True),\n (True, False, False, False, False, False, False, True),\n (True, False, False, False, False, False, False, True),\n (True, True, False, False, False, False, True, True),\n (True, True, False, False, False, False, True, True),\n (True, True, False, False, False, False, True, True),\n (True, True, False, False, False, False, True, True),\n (True, True, False, False, False, False, True, True),\n (True, True, False, False, False, False, True, True),\n (True, True, False, False, False, False, True, True),\n (False, True, False, False, False, False, True, True),\n (False, True, False, False, False, False, True, False),\n (False, True, False, False, False, False, True, False),\n (False, True, True, False, True, False, True, False),\n (False, True, True, False, True, False, True, False),\n (False, True, True, False, True, False, True, False),\n (False, True, True, False, True, False, True, False),\n (False, True, True, False, True, False, True, False),\n (False, True, True, False, True, False, True, False),\n (False, True, True, False, True, False, True, False),\n (False, True, True, False, True, False, True, False),\n (False, False, True, False, True, False, False, False),\n (False, False, True, False, True, False, False, False),\n (False, False, True, True, True, False, False, False),\n (False, False, True, True, True, False, False, False),\n (False, False, True, True, True, False, False, False),\n (False, False, True, True, True, False, False, False),\n (False, False, True, True, True, False, False, False),\n (False, False, True, True, True, False, False, False),\n (False, False, True, True, True, False, False, False),\n (False, False, False, True, True, False, False, False),\n (False, False, False, True, True, False, False, False),\n (False, False, False, True, True, False, False, False),\n (False, False, False, True, True, True, False, False),\n (False, False, False, True, True, True, False, False),\n (False, False, False, True, True, True, False, False),\n (False, False, False, True, True, True, False, False),\n (False, False, False, True, True, True, False, False),\n (False, False, False, True, True, True, False, False),\n (False, False, False, True, True, True, False, False),\n (False, False, False, True, True, True, False, False),\n (False, False, False, True, False, True, False, False),\n (False, False, False, True, False, True, False, False),\n (False, False, False, True, True, True, False, False),\n (False, False, False, True, True, True, False, False),\n (False, False, False, True, True, True, False, False),\n (False, False, False, True, True, True, False, False),\n (False, False, False, True, True, True, False, False),\n (False, False, False, True, True, True, False, False),\n (False, False, False, True, True, True, False, False),\n (False, False, False, False, True, True, False, False),\n (False, False, False, False, True, True, False, False),\n (False, False, False, False, True, True, False, False),\n (False, False, True, False, True, True, False, False),\n (False, False, True, False, True, True, False, False),\n (False, False, True, False, True, True, False, False),\n (False, False, True, False, True, True, False, False),\n (False, False, True, False, True, True, False, False),\n (False, False, True, False, True, True, False, False),\n (False, False, True, False, True, True, False, False),\n (False, False, True, False, False, True, False, False),\n (False, False, True, False, False, False, False, False),\n (False, False, True, False, False, False, False, False),\n (False, False, True, True, False, False, False, False),\n (False, False, True, True, False, False, False, False),\n (False, False, True, False, False, False, False, False),\n (False, False, True, True, False, False, False, False),\n (False, False, True, True, False, False, False, False),\n (False, False, True, True, False, False, False, False),\n (False, False, True, True, False, False, False, False),\n (False, False, True, True, False, False, False, False),\n (False, False, True, True, False, False, False, False),\n (False, False, True, True, False, False, False, False),\n (False, False, True, True, False, False, False, False),\n (False, False, False, True, False, True, False, False),\n (False, False, False, True, False, True, False, False),\n (False, False, False, True, False, True, False, False),\n (False, False, False, True, False, True, False, False),\n (False, False, False, True, False, True, False, False),\n (False, False, False, True, False, True, False, False),\n (False, False, False, False, False, True, False, False),\n (False, False, False, False, False, True, False, False),\n (False, False, False, False, False, True, False, False),\n (False, False, False, False, True, True, False, False),\n (False, False, False, False, True, True, False, False),\n (False, False, False, False, True, True, False, False),\n (False, False, False, False, True, True, False, False),\n (False, False, False, False, True, True, False, False),\n (False, False, False, False, True, True, False, False),\n (False, False, False, False, True, True, False, False),\n (False, False, False, False, True, True, False, False),\n (False, False, False, False, True, True, False, False),\n (False, False, False, False, True, True, False, False),\n (False, False, False, True, True, True, False, False),\n (False, False, False, True, True, True, False, False),\n (False, False, False, True, True, True, False, False),\n (False, False, False, True, True, True, False, False),\n (False, False, False, True, True, True, False, False),\n (False, False, False, True, True, True, False, False),\n (False, False, False, True, True, True, False, False),\n (False, False, False, True, False, True, False, False),\n (False, False, False, True, False, True, False, False),\n (False, False, False, True, False, True, False, False),\n (False, False, False, True, True, True, False, False),\n (False, False, False, True, True, True, False, False),\n (False, False, False, True, True, True, False, False),\n (False, False, False, True, True, True, False, False),\n (False, False, False, True, True, True, False, False),\n (False, False, False, True, True, True, False, False),\n (False, False, False, True, True, False, False, False),\n (False, False, False, True, True, False, False, False),\n (False, False, False, True, True, False, False, False),\n (False, False, False, True, True, False, False, False),\n (False, False, True, True, True, False, False, False),\n (False, False, True, True, True, False, False, False),\n (False, False, True, True, True, False, False, False),\n (False, False, True, True, True, False, False, False),\n (False, False, True, True, True, False, False, False),\n (False, False, True, True, True, False, False, False),\n (False, False, True, True, True, False, False, False),\n (False, False, True, False, True, False, False, False),\n (False, False, True, False, True, False, False, False),\n (False, False, True, False, True, False, False, False),\n (False, False, True, False, True, False, False, False),\n (False, False, True, True, True, False, False, False),\n (False, False, True, True, True, False, False, False),\n (False, False, True, True, True, False, False, False),\n (False, False, True, True, True, False, False, False),\n (False, False, True, True, True, False, False, False),\n (False, False, True, True, True, False, False, False),\n (False, False, True, True, False, False, False, False),\n (False, False, True, True, False, False, False, False),\n (False, False, True, True, False, False, False, False),\n (False, False, True, True, False, False, False, False),\n (False, True, True, True, False, False, False, False),\n (False, True, True, True, False, False, False, False),\n (False, True, True, True, False, False, False, False),\n (False, True, True, True, False, False, False, False),\n (False, True, True, True, False, False, False, False),\n (False, True, True, True, False, False, False, False),\n (False, True, True, True, False, False, False, False),\n (False, True, False, False, False, False, False, False),\n (False, True, False, False, False, False, False, False),\n (False, True, False, False, False, False, False, False),\n (False, True, False, False, False, False, False, False),\n (False, True, False, True, False, False, False, False),\n (False, True, False, True, False, False, False, False),\n (False, True, False, True, False, False, False, False),\n (False, True, False, True, False, False, False, False),\n (False, True, False, True, False, False, False, False),\n (False, True, False, True, False, False, False, False),\n (False, True, False, True, False, False, False, False),\n (False, True, False, True, False, False, False, False),\n (False, True, False, True, False, False, False, False),\n (False, False, False, True, False, False, True, False),\n ...]"
     },
     "execution_count": 525,
     "metadata": {},
     "output_type": "execute_result"
    }
   ],
   "source": [
    "label_list = list(labels.to_numpy())\n",
    "for count, label in enumerate(label_list):\n",
    "    label_list[count] = tuple(label)\n",
    "\n",
    "label_list"
   ],
   "metadata": {
    "collapsed": false,
    "ExecuteTime": {
     "end_time": "2023-11-04T03:01:06.669564600Z",
     "start_time": "2023-11-04T03:01:06.402566200Z"
    }
   },
   "id": "89a1061f24c50330"
  },
  {
   "cell_type": "code",
   "execution_count": 526,
   "outputs": [
    {
     "data": {
      "text/plain": "<_MapDataset element_spec=(TensorSpec(shape=(1, 400, 400, 3), dtype=tf.float32, name=None), TensorSpec(shape=(1, 8), dtype=tf.bool, name=None))>"
     },
     "execution_count": 526,
     "metadata": {},
     "output_type": "execute_result"
    }
   ],
   "source": [
    "string_base_path = str(incomplete_dataset_path)\n",
    "def read_image(image_path, labels):\n",
    "    image = tf.io.read_file(image_path)\n",
    "    image = tf.image.decode_png(image, channels=3)\n",
    "    image = img_normaliser(image)\n",
    "    image.set_shape([400, 400, 3])\n",
    "    image = tf.expand_dims(image, 0)\n",
    "    labels = [labels]\n",
    "    \n",
    "    return image, labels\n",
    "\n",
    "dataset_train = dataset_train.map(read_image)\n",
    "dataset_train"
   ],
   "metadata": {
    "collapsed": false,
    "ExecuteTime": {
     "end_time": "2023-11-04T03:01:06.724564800Z",
     "start_time": "2023-11-04T03:01:06.547564700Z"
    }
   },
   "id": "742dd8461e0abc1f"
  },
  {
   "cell_type": "code",
   "execution_count": 527,
   "outputs": [],
   "source": [
    "# # TODO: Look into moving labels to directory structure instead of csv file, then infer labels via keras\n",
    "# keras_dataset = tf.keras.utils.image_dataset_from_directory(\n",
    "#     str(incomplete_dataset_path),\n",
    "#     label_list,\n",
    "#     label_mode=\"categorical\",\n",
    "#     image_size=(400, 400)\n",
    "# )\n",
    "# keras_dataset"
   ],
   "metadata": {
    "collapsed": false,
    "ExecuteTime": {
     "end_time": "2023-11-04T03:01:06.725065Z",
     "start_time": "2023-11-04T03:01:06.577064400Z"
    }
   },
   "id": "5b99f71cb8727a6"
  },
  {
   "cell_type": "code",
   "execution_count": 528,
   "outputs": [],
   "source": [
    "# dataset_path = Path(\"\") / \"datasets\" / \"data\" / \"TEST-okinimesumama-expert-24-played-incomplete_ordered_1699049249.49\"\n",
    "# \n",
    "# folder_name = \"b1_b2_b3_b4\"\n",
    "# image_path = dataset_path / folder_name\n",
    "# print(image_path)\n",
    "# \n",
    "# img_path = image_path / os.listdir(image_path)[0]\n",
    "# img = tf.image.decode_png(tf.io.read_file(str(img_path)))\n",
    "# label_list = img_path.parts[-2]\n",
    "# label_list\n",
    "# labels = label_list.split(\"_\")\n",
    "# \n",
    "# label_arr = [\"b1\" in labels, \"b2\" in labels, \"b3\" in labels, \"b4\" in labels, \n",
    "#              \"b5\" in labels, \"b6\" in labels, \"b7\" in labels, \"b8\" in labels]\n",
    "# label_arr"
   ],
   "metadata": {
    "collapsed": false,
    "ExecuteTime": {
     "end_time": "2023-11-04T03:01:06.725565200Z",
     "start_time": "2023-11-04T03:01:06.582064400Z"
    }
   },
   "id": "fd21806d161804e"
  },
  {
   "cell_type": "code",
   "execution_count": 529,
   "outputs": [],
   "source": [
    "# def load_image(image_name, image_labels):\n",
    "#     # print(image_name)\n",
    "#     image_path = \"datassets/data/TEST-okinimesumama-expert-24-played-incomplete/\" + image_name\n",
    "#     image = tf.io.read_file(image_path)\n",
    "#     image = tf.image.decode_png(image)\n",
    "#     # print(image.)\n",
    "#     rescaler = layers.Rescaling(1./255)\n",
    "#     rescaled_image = rescaler(image)\n",
    "#     return image, image_labels\n",
    "# \n",
    "# def augment_image(image, image_labels):\n",
    "#     # TODO: Add applicable augmentation (brightness, saturation?, slight scaling?)\n",
    "#     return image, image_labels\n",
    "# \n",
    "# # The top line of the image is all black due to the screen outputting a circle for the play area, so the output here is not alarming (use indexing to select a specific pixel to prove that the file is correctly read)\n",
    "# # load_image(file_names[0], labels.head(1))\n",
    "# \n",
    "# dataset_train = dataset_train.map(load_image)\n",
    "# dataset_train[0]"
   ],
   "metadata": {
    "collapsed": false,
    "ExecuteTime": {
     "end_time": "2023-11-04T03:01:06.726064300Z",
     "start_time": "2023-11-04T03:01:06.590564500Z"
    }
   },
   "id": "6d5227dea0cbeb18"
  },
  {
   "cell_type": "code",
   "execution_count": 529,
   "outputs": [],
   "source": [],
   "metadata": {
    "collapsed": false,
    "ExecuteTime": {
     "end_time": "2023-11-04T03:01:06.758563700Z",
     "start_time": "2023-11-04T03:01:06.598063800Z"
    }
   },
   "id": "ae3a2b6b619ef077"
  },
  {
   "cell_type": "code",
   "execution_count": 530,
   "outputs": [
    {
     "name": "stdout",
     "output_type": "stream",
     "text": [
      "Model: \"sequential_24\"\n",
      "_________________________________________________________________\n",
      " Layer (type)                Output Shape              Param #   \n",
      "=================================================================\n",
      " conv2d_96 (Conv2D)          (None, 199, 199, 32)      896       \n",
      "                                                                 \n",
      " activation_168 (Activation  (None, 199, 199, 32)      0         \n",
      " )                                                               \n",
      "                                                                 \n",
      " batch_normalization_96 (Ba  (None, 199, 199, 32)      128       \n",
      " tchNormalization)                                               \n",
      "                                                                 \n",
      " conv2d_97 (Conv2D)          (None, 99, 99, 64)        18496     \n",
      "                                                                 \n",
      " activation_169 (Activation  (None, 99, 99, 64)        0         \n",
      " )                                                               \n",
      "                                                                 \n",
      " batch_normalization_97 (Ba  (None, 99, 99, 64)        256       \n",
      " tchNormalization)                                               \n",
      "                                                                 \n",
      " conv2d_98 (Conv2D)          (None, 49, 49, 128)       73856     \n",
      "                                                                 \n",
      " activation_170 (Activation  (None, 49, 49, 128)       0         \n",
      " )                                                               \n",
      "                                                                 \n",
      " batch_normalization_98 (Ba  (None, 49, 49, 128)       512       \n",
      " tchNormalization)                                               \n",
      "                                                                 \n",
      " max_pooling2d_45 (MaxPooli  (None, 24, 24, 128)       0         \n",
      " ng2D)                                                           \n",
      "                                                                 \n",
      " conv2d_99 (Conv2D)          (None, 22, 22, 32)        36896     \n",
      "                                                                 \n",
      " activation_171 (Activation  (None, 22, 22, 32)        0         \n",
      " )                                                               \n",
      "                                                                 \n",
      " batch_normalization_99 (Ba  (None, 22, 22, 32)        128       \n",
      " tchNormalization)                                               \n",
      "                                                                 \n",
      " max_pooling2d_46 (MaxPooli  (None, 11, 11, 32)        0         \n",
      " ng2D)                                                           \n",
      "                                                                 \n",
      " flatten_24 (Flatten)        (None, 3872)              0         \n",
      "                                                                 \n",
      " dense_72 (Dense)            (None, 512)               1982976   \n",
      "                                                                 \n",
      " activation_172 (Activation  (None, 512)               0         \n",
      " )                                                               \n",
      "                                                                 \n",
      " dense_73 (Dense)            (None, 512)               262656    \n",
      "                                                                 \n",
      " activation_173 (Activation  (None, 512)               0         \n",
      " )                                                               \n",
      "                                                                 \n",
      " dense_74 (Dense)            (None, 8)                 4104      \n",
      "                                                                 \n",
      " activation_174 (Activation  (None, 8)                 0         \n",
      " )                                                               \n",
      "                                                                 \n",
      "=================================================================\n",
      "Total params: 2380904 (9.08 MB)\n",
      "Trainable params: 2380392 (9.08 MB)\n",
      "Non-trainable params: 512 (2.00 KB)\n",
      "_________________________________________________________________\n"
     ]
    }
   ],
   "source": [
    "wamai_model = SequentialModel([\n",
    "    \n",
    "    # layers.InputLayer(input_shape=(400, 400, 3)),\n",
    "    layers.Conv2D(filters = 32, kernel_size = (3,3), strides = 2, input_shape = image_shape),\n",
    "    layers.Activation('relu'),\n",
    "    layers.BatchNormalization(),\n",
    "\n",
    "    layers.Conv2D(filters = 64, kernel_size = (3,3), strides = 2),\n",
    "    layers.Activation('relu'),\n",
    "    layers.BatchNormalization(),\n",
    "\n",
    "    layers.Conv2D(filters = 128, kernel_size = (3,3), strides = 2),\n",
    "    layers.Activation('relu'),\n",
    "    layers.BatchNormalization(),\n",
    "\n",
    "    layers.MaxPool2D(pool_size = (2, 2)),\n",
    "    layers.Conv2D(filters = 32, kernel_size = (3,3)),\n",
    "    layers.Activation('relu'),\n",
    "    layers.BatchNormalization(),\n",
    "\n",
    "    layers.MaxPool2D(pool_size = (2, 2)),\n",
    "    layers.Flatten(),\n",
    "\n",
    "    layers.Dense(units = 512),\n",
    "    layers.Activation('relu'),\n",
    "\n",
    "    layers.Dense(units = 512),\n",
    "    layers.Activation('relu'),\n",
    "\n",
    "    layers.Dense(units = 8),\n",
    "    layers.Activation('softmax')\n",
    "\n",
    "])\n",
    "\n",
    "wamai_model.summary()"
   ],
   "metadata": {
    "collapsed": false,
    "ExecuteTime": {
     "end_time": "2023-11-04T03:01:06.914063700Z",
     "start_time": "2023-11-04T03:01:06.603066500Z"
    }
   },
   "id": "4e517cfcf382fa63"
  },
  {
   "cell_type": "code",
   "execution_count": 531,
   "outputs": [],
   "source": [
    "wamai_model.compile(optimizer=tf.keras.optimizers.Adam(),\n",
    "                    loss='binary_crossentropy',  # Binary crossentropy predicts a probability for each label - much more like the outputs wanted\n",
    "                    metrics=[\"accuracy\"])"
   ],
   "metadata": {
    "collapsed": false,
    "ExecuteTime": {
     "end_time": "2023-11-04T03:01:06.976564600Z",
     "start_time": "2023-11-04T03:01:06.882064400Z"
    }
   },
   "id": "cc89c31e055a889a"
  },
  {
   "cell_type": "markdown",
   "source": [],
   "metadata": {
    "collapsed": false
   },
   "id": "b11a68da06e39f16"
  },
  {
   "cell_type": "code",
   "execution_count": 532,
   "outputs": [
    {
     "name": "stdout",
     "output_type": "stream",
     "text": [
      "Epoch 1/2\n",
      "2260/2260 [==============================] - 184s 80ms/step - loss: 0.5601 - accuracy: 0.1996\n",
      "Epoch 2/2\n",
      "2260/2260 [==============================] - 177s 78ms/step - loss: 0.5486 - accuracy: 0.1854\n"
     ]
    }
   ],
   "source": [
    "model_file_path = Path(\"\") / \"models\" / \"WA.M.AI proto 1\" / f\"WA.M.AI-p-1_binary_high-epoch{time.time()}.ckpt\"\n",
    "model_file_path_string = str(model_file_path)\n",
    "model_folder = model_file_path.parent\n",
    "if not os.path.exists(model_folder):\n",
    "    os.makedirs(model_folder)\n",
    "\n",
    "checkpoint_filepath = model_file_path.parent / \"WA.M.AI-p-binary-epoch{epoch:02d}-{val_loss:.2f}.hdf5\"\n",
    "\n",
    "model_checkpoint_callback = tf.keras.callbacks.ModelCheckpoint(\n",
    "    filepath=checkpoint_filepath,\n",
    "    save_weights_only=True,\n",
    "    monitor='val_accuracy',\n",
    "    mode='max',\n",
    "    save_best_only=True)\n",
    "\n",
    "wamai_model.fit(dataset_train, epochs=100)\n",
    "\n",
    "# wamai_model.save_weights(model_file_path_string)"
   ],
   "metadata": {
    "collapsed": false,
    "ExecuteTime": {
     "end_time": "2023-11-04T03:07:08.297064400Z",
     "start_time": "2023-11-04T03:01:06.891065600Z"
    }
   },
   "id": "d5b57b23d8c9af44"
  },
  {
   "cell_type": "code",
   "execution_count": 533,
   "outputs": [
    {
     "data": {
      "text/plain": "<_MapDataset element_spec=(TensorSpec(shape=(1, 400, 400, 3), dtype=tf.float32, name=None), TensorSpec(shape=(1, 8), dtype=tf.bool, name=None))>"
     },
     "execution_count": 533,
     "metadata": {},
     "output_type": "execute_result"
    }
   ],
   "source": [
    "dataset_test = tf.data.Dataset.from_tensor_slices(([\"datasets\\\\data\\\\TEST-okinimesumama-expert-24-played-incomplete\\\\okinimesumama-expert-24-played-incomplete-0000001057.png\", \"datasets\\\\data\\\\TEST-okinimesumama-expert-24-played-incomplete\\\\okinimesumama-expert-24-played-incomplete-0000001058.png\"], [[False,False,True,True,False,False,False,False], [False,False,True,True,False,False,False,False]]))\n",
    "# dataset_test\n",
    "dataset_test = dataset_test.map(read_image)\n",
    "dataset_test"
   ],
   "metadata": {
    "collapsed": false,
    "ExecuteTime": {
     "end_time": "2023-11-04T03:07:08.348063100Z",
     "start_time": "2023-11-04T03:07:08.301063900Z"
    }
   },
   "id": "e245bd7b0c6feb9a"
  },
  {
   "cell_type": "code",
   "execution_count": 534,
   "outputs": [
    {
     "name": "stdout",
     "output_type": "stream",
     "text": [
      "2/2 [==============================] - 0s 18ms/step\n"
     ]
    },
    {
     "data": {
      "text/plain": "array([[0.13152727, 0.16238569, 0.11336713, 0.12845396, 0.10092722,\n        0.13302656, 0.1305018 , 0.09981041],\n       [0.13152727, 0.16238569, 0.11336713, 0.12845396, 0.10092722,\n        0.13302656, 0.1305018 , 0.09981041]], dtype=float32)"
     },
     "execution_count": 534,
     "metadata": {},
     "output_type": "execute_result"
    }
   ],
   "source": [
    "wamai_model.predict(dataset_test)"
   ],
   "metadata": {
    "collapsed": false,
    "ExecuteTime": {
     "end_time": "2023-11-04T03:07:08.640066200Z",
     "start_time": "2023-11-04T03:07:08.333565800Z"
    }
   },
   "id": "ecbdda0ce2abc26d"
  },
  {
   "cell_type": "code",
   "execution_count": 534,
   "outputs": [],
   "source": [],
   "metadata": {
    "collapsed": false,
    "ExecuteTime": {
     "end_time": "2023-11-04T03:07:08.640066200Z",
     "start_time": "2023-11-04T03:07:08.601065700Z"
    }
   },
   "id": "7bbcd8728865d536"
  }
 ],
 "metadata": {
  "kernelspec": {
   "display_name": "Python 3",
   "language": "python",
   "name": "python3"
  },
  "language_info": {
   "codemirror_mode": {
    "name": "ipython",
    "version": 2
   },
   "file_extension": ".py",
   "mimetype": "text/x-python",
   "name": "python",
   "nbconvert_exporter": "python",
   "pygments_lexer": "ipython2",
   "version": "2.7.6"
  }
 },
 "nbformat": 4,
 "nbformat_minor": 5
}
