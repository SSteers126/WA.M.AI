{
 "cells": [
  {
   "cell_type": "code",
   "execution_count": null,
   "id": "initial_id",
   "metadata": {
    "collapsed": true
   },
   "outputs": [],
   "source": [
    "import tensorflow as tf\n",
    "import tensorflow_datasets as tfds\n",
    "# from tensorflow.keras.layers import Input, Conv2D, Dense, Flatten, Dropout, GlobalMaxPooling2D, Activation, Rescaling\n",
    "from tensorflow.keras import layers\n",
    "from tensorflow.keras.models import Sequential as SequentialModel\n",
    "import keras_tuner as kt\n",
    "from sklearn.metrics import confusion_matrix, ConfusionMatrixDisplay\n",
    "\n",
    "import numpy as np\n",
    "import matplotlib.pyplot as plt\n",
    "import itertools\n",
    "\n",
    "# tf.random.set_seed(5263)\n",
    "tf.__version__"
   ]
  },
  {
   "cell_type": "code",
   "execution_count": null,
   "outputs": [],
   "source": [
    "# Set up datasets before passing to the model\n",
    "\n",
    "\n",
    "# TODO: Image shape should be taken from the dataset, not hardcoded\n",
    "image_shape = (500, 500, 3)\n",
    "\n",
    "# Normalise image values to 0-1 from 0-255\n",
    "img_normaliser = layers.Rescaling(1./255)"
   ],
   "metadata": {
    "collapsed": false
   },
   "id": "f885e125140780fe"
  },
  {
   "cell_type": "code",
   "execution_count": null,
   "outputs": [],
   "source": [
    "def wamai_model_builder(hp):\n",
    "    \n",
    "    # Tune whether to pool image to half or quarter size before passing it to the high-filter convolutional layer - revisit if necessary\n",
    "    # hp_pool_size = hp.Choice('learning_rate', values=[(2, 2), (4, 4)])\n",
    "    \n",
    "    # Tuning filter count for convolutional layers\n",
    "    hp_conv1_filter_count = hp.Int('conv_1_filters', min_value=16, max_value=64, step=8)\n",
    "    hp_conv2_filter_count = hp.Int('conv_2_filters', min_value=32, max_value=128, step=16)\n",
    "    hp_conv3_filter_count = hp.Int('conv_3_filters', min_value=64, max_value=256, step=16)\n",
    "    \n",
    "    # Tuning amount of neurons in hidden layers after flattening\n",
    "    hp_hidden1_units = hp.Int('first_hidden_units', min_value=256, max_value=2048, step=64)\n",
    "    hp_hidden2_units = hp.Int('second_hidden_units', min_value=128, max_value=1024, step=64)\n",
    "    \n",
    "    wamai_model = SequentialModel([\n",
    "\n",
    "    layers.Conv2D(filters = hp_conv1_filter_count, kernel_size = (3,3), strides = 2, input_shape = image_shape),\n",
    "    layers.Activation('relu'),\n",
    "    layers.BatchNormalization(),\n",
    "    \n",
    "    layers.Conv2D(filters = hp_conv2_filter_count, kernel_size = (3,3), strides = 2),\n",
    "    layers.Activation('relu'),\n",
    "    layers.BatchNormalization(),\n",
    "    \n",
    "    layers.MaxPool2D(pool_size = (2, 2)),\n",
    "    layers.Conv2D(filters = hp_conv3_filter_count, kernel_size = (3,3), strides = 2),\n",
    "    layers.Activation('relu'),\n",
    "    layers.BatchNormalization(),\n",
    "    layers.Flatten(),\n",
    "    \n",
    "    layers.Dense(units = hp_hidden1_units),\n",
    "    layers.Activation('relu'),\n",
    "    \n",
    "    layers.Dense(units = hp_hidden2_units),\n",
    "    layers.Activation('relu'),\n",
    "    \n",
    "    layers.Dense(units = 8),\n",
    "    layers.Activation('sigmoid')\n",
    "\n",
    "    ])\n",
    "    \n",
    "    wamai_model.compile(\n",
    "                      optimizer='adam', loss='binary_crossentropy',\n",
    "                      metrics=['accuracy'], loss_weights=None,\n",
    "                      weighted_metrics=None, run_eagerly=None,\n",
    "                      steps_per_execution=None\n",
    "    )\n",
    "    \n",
    "    return wamai_model\n",
    "\n",
    "# Tune the model probabilistically, using accuracy as the metric to optimise the model\n",
    "tuner = kt.tuners.BayesianOptimization(wamai_model_builder, objective=\"accuracy\", max_trials=20, project_name=\"income_predictor_bayesian\")\n",
    "# Search for the best hyperparameters\n",
    "tuner.search(features_train, target_train, validation_data=(features_test, target_test))\n",
    "best_hps = tuner.get_best_hyperparameters()[0]\n"
   ],
   "metadata": {
    "collapsed": false
   },
   "id": "dddc18bd757be611"
  },
  {
   "cell_type": "code",
   "execution_count": null,
   "outputs": [],
   "source": [
    "# wamai_model = SequentialModel([\n",
    "# \n",
    "#     layers.Conv2D(filters = 32, kernel_size = (3,3), strides = 2, input_shape = image_shape),\n",
    "#     layers.Activation('relu'),\n",
    "#     layers.BatchNormalization(),\n",
    "#     \n",
    "#     layers.Conv2D(filters = 64, kernel_size = (3,3), strides = 2),\n",
    "#     layers.Activation('relu'),\n",
    "#     layers.BatchNormalization(),\n",
    "#     \n",
    "#     layers.Conv2D(filters = 128, kernel_size = (3,3), strides = 2),\n",
    "#     layers.Activation('relu'),\n",
    "#     layers.BatchNormalization(),\n",
    "#     \n",
    "#     layers.MaxPool2D(pool_size = (2, 2)),\n",
    "#     layers.Conv2D(filters = 32, kernel_size = (3,3)),\n",
    "#     layers.Activation('relu'),\n",
    "#     layers.BatchNormalization(),\n",
    "#     \n",
    "#     layers.MaxPool2D(pool_size = (2, 2)),\n",
    "#     layers.Flatten(),\n",
    "#     \n",
    "#     layers.Dense(units = 512),\n",
    "#     layers.Activation('relu'),\n",
    "#     \n",
    "#     layers.Dense(units = 512),\n",
    "#     layers.Activation('relu'),\n",
    "#     \n",
    "#     layers.Dense(units = 1),\n",
    "#     layers.Activation('sigmoid')\n",
    "# \n",
    "# ])"
   ],
   "metadata": {
    "collapsed": false
   },
   "id": "4e517cfcf382fa63"
  },
  {
   "cell_type": "code",
   "execution_count": null,
   "outputs": [],
   "source": [
    "# Build and train the model - note that training time will be long if on CPU.\n",
    "wamai_model.compile(\n",
    "                      optimizer='adam', loss='categorical_crossentropy',\n",
    "                      metrics=['accuracy'], loss_weights=None,\n",
    "                      weighted_metrics=None, run_eagerly=None,\n",
    "                      steps_per_execution=None\n",
    ")\n",
    "\n",
    "print(wamai_model.summary())\n",
    "\n",
    "# history = classification_model.fit(train_dataset, validation_data=test_dataset, epochs=20)"
   ],
   "metadata": {
    "collapsed": false
   },
   "id": "56d4d9a6c392eebe"
  }
 ],
 "metadata": {
  "kernelspec": {
   "display_name": "Python 3",
   "language": "python",
   "name": "python3"
  },
  "language_info": {
   "codemirror_mode": {
    "name": "ipython",
    "version": 2
   },
   "file_extension": ".py",
   "mimetype": "text/x-python",
   "name": "python",
   "nbconvert_exporter": "python",
   "pygments_lexer": "ipython2",
   "version": "2.7.6"
  }
 },
 "nbformat": 4,
 "nbformat_minor": 5
}
