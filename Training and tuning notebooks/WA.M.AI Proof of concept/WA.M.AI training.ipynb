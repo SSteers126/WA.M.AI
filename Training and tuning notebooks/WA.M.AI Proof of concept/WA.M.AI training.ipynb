{
 "cells": [
  {
   "cell_type": "code",
   "execution_count": null,
   "outputs": [],
   "source": [
    "# Temporary cell to test that the model can become performant\n",
    "\n",
    "wamai_model = SequentialModel([\n",
    "\n",
    "    layers.Conv2D(filters = 64, kernel_size = (3,3), strides = 2, input_shape = image_shape),\n",
    "    layers.Activation('relu'),\n",
    "    layers.BatchNormalization(),\n",
    "    \n",
    "    layers.Conv2D(filters = 128, kernel_size = (3,3), strides = 2),\n",
    "    layers.Activation('relu'),\n",
    "    layers.BatchNormalization(),\n",
    "    \n",
    "    layers.MaxPool2D(pool_size = (2, 2)),\n",
    "    layers.Conv2D(filters = 256, kernel_size = (3,3), strides = 2),\n",
    "    layers.Activation('relu'),\n",
    "    layers.BatchNormalization(),\n",
    "    layers.Flatten(),\n",
    "    \n",
    "    layers.Dense(units = 1024),\n",
    "    layers.Activation('relu'),\n",
    "    \n",
    "    layers.Dense(units = 512),\n",
    "    layers.Activation('relu'),\n",
    "    \n",
    "    layers.Dense(units = 8),\n",
    "    layers.Activation('sigmoid')\n",
    "\n",
    "])\n",
    "    \n",
    "wamai_model.compile(\n",
    "                  optimizer='adam', loss='binary_crossentropy',\n",
    "                  metrics=['accuracy'], loss_weights=None,\n",
    "                  weighted_metrics=None, run_eagerly=None,\n",
    "                  steps_per_execution=None\n",
    ")"
   ],
   "metadata": {
    "collapsed": false
   },
   "id": "246fe58ad92b1f28"
  }
 ],
 "metadata": {
  "kernelspec": {
   "display_name": "Python 3",
   "language": "python",
   "name": "python3"
  },
  "language_info": {
   "codemirror_mode": {
    "name": "ipython",
    "version": 2
   },
   "file_extension": ".py",
   "mimetype": "text/x-python",
   "name": "python",
   "nbconvert_exporter": "python",
   "pygments_lexer": "ipython2",
   "version": "2.7.6"
  }
 },
 "nbformat": 4,
 "nbformat_minor": 5
}
