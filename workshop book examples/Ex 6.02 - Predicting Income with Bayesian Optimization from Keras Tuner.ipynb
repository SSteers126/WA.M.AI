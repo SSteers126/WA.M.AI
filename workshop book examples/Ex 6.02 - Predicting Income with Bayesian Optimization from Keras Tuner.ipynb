{
 "cells": [
  {
   "cell_type": "code",
   "execution_count": 7,
   "id": "initial_id",
   "metadata": {
    "collapsed": true,
    "ExecuteTime": {
     "end_time": "2023-10-15T21:39:43.017705200Z",
     "start_time": "2023-10-15T21:39:42.996707600Z"
    }
   },
   "outputs": [
    {
     "data": {
      "text/plain": "'2.14.0'"
     },
     "execution_count": 7,
     "metadata": {},
     "output_type": "execute_result"
    }
   ],
   "source": [
    "import tensorflow as tf\n",
    "import pandas as pd\n",
    "import keras_tuner as kt\n",
    "# from sklearn.model_selection import train_test_split\n",
    "\n",
    "tf.__version__"
   ]
  },
  {
   "cell_type": "code",
   "execution_count": 8,
   "outputs": [
    {
     "data": {
      "text/plain": "   AAGE  ADTIND  ADTOCC  SEOTR  WKSWORK\n0    73       0       0      0        0\n1    58       4      34      0       52\n2    18       0       0      0        0\n3     9       0       0      0        0\n4    10       0       0      0        0",
      "text/html": "<div>\n<style scoped>\n    .dataframe tbody tr th:only-of-type {\n        vertical-align: middle;\n    }\n\n    .dataframe tbody tr th {\n        vertical-align: top;\n    }\n\n    .dataframe thead th {\n        text-align: right;\n    }\n</style>\n<table border=\"1\" class=\"dataframe\">\n  <thead>\n    <tr style=\"text-align: right;\">\n      <th></th>\n      <th>AAGE</th>\n      <th>ADTIND</th>\n      <th>ADTOCC</th>\n      <th>SEOTR</th>\n      <th>WKSWORK</th>\n    </tr>\n  </thead>\n  <tbody>\n    <tr>\n      <th>0</th>\n      <td>73</td>\n      <td>0</td>\n      <td>0</td>\n      <td>0</td>\n      <td>0</td>\n    </tr>\n    <tr>\n      <th>1</th>\n      <td>58</td>\n      <td>4</td>\n      <td>34</td>\n      <td>0</td>\n      <td>52</td>\n    </tr>\n    <tr>\n      <th>2</th>\n      <td>18</td>\n      <td>0</td>\n      <td>0</td>\n      <td>0</td>\n      <td>0</td>\n    </tr>\n    <tr>\n      <th>3</th>\n      <td>9</td>\n      <td>0</td>\n      <td>0</td>\n      <td>0</td>\n      <td>0</td>\n    </tr>\n    <tr>\n      <th>4</th>\n      <td>10</td>\n      <td>0</td>\n      <td>0</td>\n      <td>0</td>\n      <td>0</td>\n    </tr>\n  </tbody>\n</table>\n</div>"
     },
     "execution_count": 8,
     "metadata": {},
     "output_type": "execute_result"
    }
   ],
   "source": [
    "# Using same columns as with Ex 6.01 for features\n",
    "USECOLS = [\"AAGE\", \"ADTIND\", \"ADTOCC\", \"SEOTR\", \"WKSWORK\", \"PTOTVAL\"]\n",
    "\n",
    "df = pd.read_csv(\"../input_data/CSVs/census-income-train.csv\", usecols=USECOLS)\n",
    "target = df.pop(\"PTOTVAL\")\n",
    "df.head()"
   ],
   "metadata": {
    "collapsed": false,
    "ExecuteTime": {
     "end_time": "2023-10-15T21:39:43.705206800Z",
     "start_time": "2023-10-15T21:39:43.005706800Z"
    }
   },
   "id": "b35119b8f1ac02c7"
  },
  {
   "cell_type": "code",
   "execution_count": 9,
   "outputs": [
    {
     "data": {
      "text/plain": "15000     896.10\n15001    2349.06\n15002    1134.00\n15003    2042.50\n15004    4521.29\nName: PTOTVAL, dtype: float64"
     },
     "execution_count": 9,
     "metadata": {},
     "output_type": "execute_result"
    }
   ],
   "source": [
    "# Split data into test and train sets\n",
    "features_train = df.iloc[:15000]\n",
    "target_train = target.iloc[:15000]\n",
    "\n",
    "features_test = df.iloc[15000:]\n",
    "target_test = target.iloc[15000:]\n",
    "target_test.head()"
   ],
   "metadata": {
    "collapsed": false,
    "ExecuteTime": {
     "end_time": "2023-10-15T21:39:43.722708200Z",
     "start_time": "2023-10-15T21:39:43.698206200Z"
    }
   },
   "id": "c5d9744a817d3b17"
  },
  {
   "cell_type": "code",
   "execution_count": 10,
   "outputs": [],
   "source": [
    "tf.random.set_seed(8)\n",
    "# `hp` = hyperparameters\n",
    "def model_builder(hp):\n",
    "    model = tf.keras.models.Sequential()\n",
    "    \n",
    "    hp_l2 = hp.Choice(\"l2\", values=[0.1, 0.01, 0.001])\n",
    "    hp_units = hp.Int('units', min_value=128, max_value=512, step=64)\n",
    "    \n",
    "    in_layer = tf.keras.layers.Dense(hp_units, input_shape=(5,), activation=\"relu\", kernel_regularizer=tf.keras.regularizers.l2(l=hp_l2))\n",
    "    hidden_layer_1 = tf.keras.layers.Dense(512, activation=\"relu\", kernel_regularizer=tf.keras.regularizers.l2(l=hp_l2))\n",
    "    hidden_layer_2 = tf.keras.layers.Dense(128, activation=\"relu\", kernel_regularizer=tf.keras.regularizers.l2(l=hp_l2))\n",
    "    hidden_layer_3 = tf.keras.layers.Dense(128, activation=\"relu\", kernel_regularizer=tf.keras.regularizers.l2(l=hp_l2))\n",
    "    out_layer = tf.keras.layers.Dense(1)\n",
    "    \n",
    "    model.add(in_layer)\n",
    "    model.add(hidden_layer_1)\n",
    "    model.add(hidden_layer_2)\n",
    "    model.add(hidden_layer_3)\n",
    "    model.add(out_layer)\n",
    "    \n",
    "    hp_learning_rate = hp.Choice('learning_rate', values=[0.01, 0.001])\n",
    "    optimizer = tf.keras.optimizers.Adam(hp_learning_rate)\n",
    "    model.compile(optimizer=optimizer, loss='mse', metrics=['mse'])\n",
    "    \n",
    "    return model"
   ],
   "metadata": {
    "collapsed": false,
    "ExecuteTime": {
     "end_time": "2023-10-15T21:39:43.760704600Z",
     "start_time": "2023-10-15T21:39:43.710720200Z"
    }
   },
   "id": "5bc8e8980abd73f2"
  },
  {
   "cell_type": "code",
   "execution_count": 11,
   "outputs": [
    {
     "name": "stdout",
     "output_type": "stream",
     "text": [
      "Trial 10 Complete [00h 00m 20s]\n",
      "val_mse: 1047347.75\n",
      "\n",
      "Best val_mse So Far: 1035517.3125\n",
      "Total elapsed time: 00h 03m 09s\n"
     ]
    }
   ],
   "source": [
    "# Tune the model probabilistically, using mean squared error as the metric to optimise the model\n",
    "tuner = kt.tuners.BayesianOptimization(model_builder, objective=\"val_mse\", max_trials=10, project_name=\"income_predictor_bayesian\")\n",
    "# Search for the best hyperparameters\n",
    "tuner.search(features_train, target_train, validation_data=(features_test, target_test))\n",
    "best_hps = tuner.get_best_hyperparameters()[0]"
   ],
   "metadata": {
    "collapsed": false
   },
   "id": "3546a2828a3f66bb"
  },
  {
   "cell_type": "code",
   "execution_count": 13,
   "outputs": [
    {
     "data": {
      "text/plain": "0.001"
     },
     "execution_count": 13,
     "metadata": {},
     "output_type": "execute_result"
    }
   ],
   "source": [
    "best_l2 = best_hps.get(\"l2\")\n",
    "best_l2"
   ],
   "metadata": {
    "collapsed": false,
    "ExecuteTime": {
     "end_time": "2023-10-15T21:45:31.734704400Z",
     "start_time": "2023-10-15T21:45:31.711706900Z"
    }
   },
   "id": "44633cad916b037"
  },
  {
   "cell_type": "code",
   "execution_count": 14,
   "outputs": [
    {
     "data": {
      "text/plain": "256"
     },
     "execution_count": 14,
     "metadata": {},
     "output_type": "execute_result"
    }
   ],
   "source": [
    "best_input_units = best_hps.get(\"units\")\n",
    "best_input_units"
   ],
   "metadata": {
    "collapsed": false,
    "ExecuteTime": {
     "end_time": "2023-10-15T21:45:33.279706200Z",
     "start_time": "2023-10-15T21:45:33.239705900Z"
    }
   },
   "id": "58d4067aa21d0e4f"
  },
  {
   "cell_type": "code",
   "execution_count": 15,
   "outputs": [
    {
     "data": {
      "text/plain": "0.001"
     },
     "execution_count": 15,
     "metadata": {},
     "output_type": "execute_result"
    }
   ],
   "source": [
    "best_lr = best_hps.get(\"learning_rate\")\n",
    "best_lr"
   ],
   "metadata": {
    "collapsed": false,
    "ExecuteTime": {
     "end_time": "2023-10-15T21:46:01.572206500Z",
     "start_time": "2023-10-15T21:46:01.521706200Z"
    }
   },
   "id": "a5b4566c06d2a95e"
  },
  {
   "cell_type": "code",
   "execution_count": 16,
   "outputs": [
    {
     "name": "stdout",
     "output_type": "stream",
     "text": [
      "Epoch 1/5\n",
      "469/469 [==============================] - 17s 33ms/step - loss: 1466548.2500 - mse: 1466546.8750 - val_loss: 1044222.1250 - val_mse: 1044221.1250\n",
      "Epoch 2/5\n",
      "469/469 [==============================] - 16s 34ms/step - loss: 1012640.7500 - mse: 1012639.9375 - val_loss: 1016550.9375 - val_mse: 1016549.5000\n",
      "Epoch 3/5\n",
      "469/469 [==============================] - 14s 29ms/step - loss: 1007892.1250 - mse: 1007890.9375 - val_loss: 1032201.4375 - val_mse: 1032200.2500\n",
      "Epoch 4/5\n",
      "469/469 [==============================] - 14s 30ms/step - loss: 1002795.3750 - mse: 1002794.1250 - val_loss: 1019208.6250 - val_mse: 1019207.1250\n",
      "Epoch 5/5\n",
      "469/469 [==============================] - 14s 30ms/step - loss: 996341.4375 - mse: 996339.8750 - val_loss: 1013901.3750 - val_mse: 1013900.3125\n"
     ]
    },
    {
     "data": {
      "text/plain": "<keras.src.callbacks.History at 0x23f6f60eb10>"
     },
     "execution_count": 16,
     "metadata": {},
     "output_type": "execute_result"
    }
   ],
   "source": [
    "# Build and train the model based on the optimal hyperparameters found\n",
    "model = tuner.hypermodel.build(best_hps)\n",
    "model.fit(features_train, target_train, epochs=5, validation_data=(features_test, target_test))"
   ],
   "metadata": {
    "collapsed": false,
    "ExecuteTime": {
     "end_time": "2023-10-15T21:48:26.421205200Z",
     "start_time": "2023-10-15T21:47:11.967707400Z"
    }
   },
   "id": "b3d3020b01b09ca7"
  }
 ],
 "metadata": {
  "kernelspec": {
   "display_name": "Python 3",
   "language": "python",
   "name": "python3"
  },
  "language_info": {
   "codemirror_mode": {
    "name": "ipython",
    "version": 2
   },
   "file_extension": ".py",
   "mimetype": "text/x-python",
   "name": "python",
   "nbconvert_exporter": "python",
   "pygments_lexer": "ipython2",
   "version": "2.7.6"
  }
 },
 "nbformat": 4,
 "nbformat_minor": 5
}
