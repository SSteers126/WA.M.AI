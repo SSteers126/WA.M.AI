{
 "cells": [
  {
   "cell_type": "code",
   "execution_count": 1,
   "id": "initial_id",
   "metadata": {
    "collapsed": true,
    "ExecuteTime": {
     "end_time": "2023-10-16T00:21:58.474006700Z",
     "start_time": "2023-10-16T00:21:50.521009600Z"
    }
   },
   "outputs": [
    {
     "data": {
      "text/plain": "'2.14.0'"
     },
     "execution_count": 1,
     "metadata": {},
     "output_type": "execute_result"
    }
   ],
   "source": [
    "import tensorflow as tf\n",
    "tf.__version__"
   ]
  },
  {
   "cell_type": "code",
   "execution_count": 2,
   "outputs": [
    {
     "name": "stdout",
     "output_type": "stream",
     "text": [
      "Model: \"sequential\"\n",
      "_________________________________________________________________\n",
      " Layer (type)                Output Shape              Param #   \n",
      "=================================================================\n",
      " conv2d (Conv2D)             (None, 298, 298, 16)      448       \n",
      "                                                                 \n",
      " activation (Activation)     (None, 298, 298, 16)      0         \n",
      "                                                                 \n",
      "=================================================================\n",
      "Total params: 448 (1.75 KB)\n",
      "Trainable params: 448 (1.75 KB)\n",
      "Non-trainable params: 0 (0.00 Byte)\n",
      "_________________________________________________________________\n"
     ]
    }
   ],
   "source": [
    "image_shape = (300, 300, 3)\n",
    "\n",
    "first_convolutional_layer = tf.keras.models.Sequential([tf.keras.layers.Conv2D(filters = 16, kernel_size = (3,3), input_shape = image_shape), tf.keras.layers.Activation('relu')])\n",
    "first_convolutional_layer.summary()"
   ],
   "metadata": {
    "collapsed": false,
    "ExecuteTime": {
     "end_time": "2023-10-16T00:23:10.488042800Z",
     "start_time": "2023-10-16T00:23:10.195041300Z"
    }
   },
   "id": "7ab48ac7ac95719a"
  }
 ],
 "metadata": {
  "kernelspec": {
   "display_name": "Python 3",
   "language": "python",
   "name": "python3"
  },
  "language_info": {
   "codemirror_mode": {
    "name": "ipython",
    "version": 2
   },
   "file_extension": ".py",
   "mimetype": "text/x-python",
   "name": "python",
   "nbconvert_exporter": "python",
   "pygments_lexer": "ipython2",
   "version": "2.7.6"
  }
 },
 "nbformat": 4,
 "nbformat_minor": 5
}
