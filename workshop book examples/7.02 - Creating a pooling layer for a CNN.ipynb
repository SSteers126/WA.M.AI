{
 "cells": [
  {
   "cell_type": "code",
   "execution_count": 1,
   "id": "initial_id",
   "metadata": {
    "collapsed": true,
    "ExecuteTime": {
     "end_time": "2023-10-16T00:56:59.930491400Z",
     "start_time": "2023-10-16T00:56:53.386487900Z"
    }
   },
   "outputs": [
    {
     "data": {
      "text/plain": "'2.14.0'"
     },
     "execution_count": 1,
     "metadata": {},
     "output_type": "execute_result"
    }
   ],
   "source": [
    "import tensorflow as tf\n",
    "tf.__version__"
   ]
  },
  {
   "cell_type": "code",
   "execution_count": 2,
   "outputs": [
    {
     "name": "stdout",
     "output_type": "stream",
     "text": [
      "Model: \"sequential\"\n",
      "_________________________________________________________________\n",
      " Layer (type)                Output Shape              Param #   \n",
      "=================================================================\n",
      " conv2d (Conv2D)             (None, 298, 298, 16)      448       \n",
      "                                                                 \n",
      " activation (Activation)     (None, 298, 298, 16)      0         \n",
      "                                                                 \n",
      " max_pooling2d (MaxPooling2  (None, 149, 149, 16)      0         \n",
      " D)                                                              \n",
      "                                                                 \n",
      "=================================================================\n",
      "Total params: 448 (1.75 KB)\n",
      "Trainable params: 448 (1.75 KB)\n",
      "Non-trainable params: 0 (0.00 Byte)\n",
      "_________________________________________________________________\n"
     ]
    }
   ],
   "source": [
    "image_shape = (300, 300, 3)\n",
    "\n",
    "# Pooling layers process the output of a convolutional layer, so we need one to then add the Pooling layer afterwards \n",
    "pooled_model = tf.keras.models.Sequential([tf.keras.layers.Conv2D(filters = 16, kernel_size = (3,3), \n",
    "                                                   input_shape = image_shape), tf.keras.layers.Activation('relu')])\n",
    "\n",
    "pooled_model.add(tf.keras.layers.MaxPool2D(pool_size = (2, 2)))\n",
    "pooled_model.summary()"
   ],
   "metadata": {
    "collapsed": false,
    "ExecuteTime": {
     "end_time": "2023-10-16T01:02:45.354517Z",
     "start_time": "2023-10-16T01:02:45.096512100Z"
    }
   },
   "id": "e250935726611d5e"
  },
  {
   "cell_type": "markdown",
   "source": [
    "*You can see in the summary the decrease in size of the output shape after the pooling layer in comparison to the original convolution output - showing its main benefit of processing time for future hidden layers by reducing the amount of data to operate on.*"
   ],
   "metadata": {
    "collapsed": false
   },
   "id": "ddbe50320e16fe3"
  }
 ],
 "metadata": {
  "kernelspec": {
   "display_name": "Python 3",
   "language": "python",
   "name": "python3"
  },
  "language_info": {
   "codemirror_mode": {
    "name": "ipython",
    "version": 2
   },
   "file_extension": ".py",
   "mimetype": "text/x-python",
   "name": "python",
   "nbconvert_exporter": "python",
   "pygments_lexer": "ipython2",
   "version": "2.7.6"
  }
 },
 "nbformat": 4,
 "nbformat_minor": 5
}
